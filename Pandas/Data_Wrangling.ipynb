{
 "cells": [
  {
   "cell_type": "markdown",
   "metadata": {},
   "source": [
    "# Data wrangling\n",
    "\n",
    "Data wrangling is a broad term used, often informally, to describe the process of\n",
    "transforming raw data to a clean and organized format ready for use. For us, data\n",
    "wrangling is only one step in preprocessing our data, but it is an important step.\n",
    "\n",
    "The most common data structure used to “wrangle” data is the data frame, which can\n",
    "be both intuitive and incredibly versatile. Data frames are tabular, meaning that they\n",
    "are based on rows and columns like you would see in a spreadsheet\n",
    "\n",
    "**[To Know More About Markdown Latext](https://csrgxtu.github.io/2015/03/20/Writing-Mathematic-Fomulars-in-Markdown/)**"
   ]
  },
  {
   "cell_type": "code",
   "execution_count": 5,
   "metadata": {},
   "outputs": [],
   "source": [
    "import pandas as pd\n",
    "import numpy as np\n",
    "import matplotlib.pyplot as plt\n",
    "import sklearn\n",
    "import scipy"
   ]
  },
  {
   "cell_type": "markdown",
   "metadata": {},
   "source": [
    "# Load CSV File"
   ]
  },
  {
   "cell_type": "code",
   "execution_count": 6,
   "metadata": {},
   "outputs": [
    {
     "data": {
      "text/html": [
       "<div>\n",
       "<style scoped>\n",
       "    .dataframe tbody tr th:only-of-type {\n",
       "        vertical-align: middle;\n",
       "    }\n",
       "\n",
       "    .dataframe tbody tr th {\n",
       "        vertical-align: top;\n",
       "    }\n",
       "\n",
       "    .dataframe thead th {\n",
       "        text-align: right;\n",
       "    }\n",
       "</style>\n",
       "<table border=\"1\" class=\"dataframe\">\n",
       "  <thead>\n",
       "    <tr style=\"text-align: right;\">\n",
       "      <th></th>\n",
       "      <th>id</th>\n",
       "      <th>name</th>\n",
       "      <th>age</th>\n",
       "      <th>blood_group</th>\n",
       "      <th>gender</th>\n",
       "      <th>experience</th>\n",
       "      <th>designation</th>\n",
       "      <th>salary</th>\n",
       "    </tr>\n",
       "  </thead>\n",
       "  <tbody>\n",
       "    <tr>\n",
       "      <th>0</th>\n",
       "      <td>1</td>\n",
       "      <td>Sharif</td>\n",
       "      <td>NaN</td>\n",
       "      <td>B+</td>\n",
       "      <td>male</td>\n",
       "      <td>1.5</td>\n",
       "      <td>Jr Software Engineer</td>\n",
       "      <td>30000</td>\n",
       "    </tr>\n",
       "    <tr>\n",
       "      <th>1</th>\n",
       "      <td>2</td>\n",
       "      <td>Kanan Mahmud</td>\n",
       "      <td>28.0</td>\n",
       "      <td>NaN</td>\n",
       "      <td>Male</td>\n",
       "      <td>7.5</td>\n",
       "      <td>Sr Software Engineer</td>\n",
       "      <td>80000</td>\n",
       "    </tr>\n",
       "    <tr>\n",
       "      <th>2</th>\n",
       "      <td>3</td>\n",
       "      <td>Md. Shakil</td>\n",
       "      <td>27.0</td>\n",
       "      <td>B-</td>\n",
       "      <td>Male</td>\n",
       "      <td>3.5</td>\n",
       "      <td>Software Engineer</td>\n",
       "      <td>45000</td>\n",
       "    </tr>\n",
       "    <tr>\n",
       "      <th>3</th>\n",
       "      <td>4</td>\n",
       "      <td>Imran Sheikh</td>\n",
       "      <td>25.0</td>\n",
       "      <td>B-</td>\n",
       "      <td>Male</td>\n",
       "      <td>1.8</td>\n",
       "      <td>Jr Software Engineer</td>\n",
       "      <td>30000</td>\n",
       "    </tr>\n",
       "    <tr>\n",
       "      <th>4</th>\n",
       "      <td>5</td>\n",
       "      <td>Farsan Rashid</td>\n",
       "      <td>27.0</td>\n",
       "      <td>O+</td>\n",
       "      <td>Male</td>\n",
       "      <td>4.2</td>\n",
       "      <td>Software Engineer</td>\n",
       "      <td>55000</td>\n",
       "    </tr>\n",
       "  </tbody>\n",
       "</table>\n",
       "</div>"
      ],
      "text/plain": [
       "   id           name   age blood_group gender  experience  \\\n",
       "0   1         Sharif   NaN          B+   male         1.5   \n",
       "1   2   Kanan Mahmud  28.0         NaN   Male         7.5   \n",
       "2   3     Md. Shakil  27.0          B-   Male         3.5   \n",
       "3   4   Imran Sheikh  25.0          B-   Male         1.8   \n",
       "4   5  Farsan Rashid  27.0          O+   Male         4.2   \n",
       "\n",
       "            designation  salary  \n",
       "0  Jr Software Engineer   30000  \n",
       "1  Sr Software Engineer   80000  \n",
       "2     Software Engineer   45000  \n",
       "3  Jr Software Engineer   30000  \n",
       "4     Software Engineer   55000  "
      ]
     },
     "execution_count": 6,
     "metadata": {},
     "output_type": "execute_result"
    }
   ],
   "source": [
    "# Read CSV files by making one column as index\n",
    "# data_frame = pd.read_csv('dataset/circle_employee.csv', index_col='name') \n",
    "\n",
    "df = pd.read_csv('dataset/circle_employee.csv')\n",
    "df.head()"
   ]
  },
  {
   "cell_type": "markdown",
   "metadata": {},
   "source": [
    "# Create Dataframe\n",
    "\n",
    "### Using List"
   ]
  },
  {
   "cell_type": "code",
   "execution_count": 7,
   "metadata": {},
   "outputs": [
    {
     "data": {
      "text/html": [
       "<div>\n",
       "<style scoped>\n",
       "    .dataframe tbody tr th:only-of-type {\n",
       "        vertical-align: middle;\n",
       "    }\n",
       "\n",
       "    .dataframe tbody tr th {\n",
       "        vertical-align: top;\n",
       "    }\n",
       "\n",
       "    .dataframe thead th {\n",
       "        text-align: right;\n",
       "    }\n",
       "</style>\n",
       "<table border=\"1\" class=\"dataframe\">\n",
       "  <thead>\n",
       "    <tr style=\"text-align: right;\">\n",
       "      <th></th>\n",
       "      <th>Name</th>\n",
       "      <th>Age</th>\n",
       "      <th>Blood Group</th>\n",
       "      <th>Sex Code</th>\n",
       "    </tr>\n",
       "  </thead>\n",
       "  <tbody>\n",
       "    <tr>\n",
       "      <th>0</th>\n",
       "      <td>Sharif</td>\n",
       "      <td>26.0</td>\n",
       "      <td>B+</td>\n",
       "      <td>1</td>\n",
       "    </tr>\n",
       "    <tr>\n",
       "      <th>1</th>\n",
       "      <td>Imran</td>\n",
       "      <td>24.0</td>\n",
       "      <td>O+</td>\n",
       "      <td>1</td>\n",
       "    </tr>\n",
       "    <tr>\n",
       "      <th>2</th>\n",
       "      <td>Hanif</td>\n",
       "      <td>NaN</td>\n",
       "      <td>AB+</td>\n",
       "      <td>1</td>\n",
       "    </tr>\n",
       "    <tr>\n",
       "      <th>3</th>\n",
       "      <td>Akib</td>\n",
       "      <td>23.0</td>\n",
       "      <td>A+</td>\n",
       "      <td>1</td>\n",
       "    </tr>\n",
       "    <tr>\n",
       "      <th>4</th>\n",
       "      <td>Fatin</td>\n",
       "      <td>25.0</td>\n",
       "      <td>O-</td>\n",
       "      <td>1</td>\n",
       "    </tr>\n",
       "  </tbody>\n",
       "</table>\n",
       "</div>"
      ],
      "text/plain": [
       "     Name   Age Blood Group  Sex Code\n",
       "0  Sharif  26.0          B+         1\n",
       "1   Imran  24.0          O+         1\n",
       "2   Hanif   NaN         AB+         1\n",
       "3    Akib  23.0          A+         1\n",
       "4   Fatin  25.0          O-         1"
      ]
     },
     "execution_count": 7,
     "metadata": {},
     "output_type": "execute_result"
    }
   ],
   "source": [
    "dataframe = pd.DataFrame()\n",
    "\n",
    "dataframe['Name'] = ['Sharif','Imran','Hanif','Akib','Fatin']\n",
    "dataframe['Age'] = [26,24,np.nan,23,25]\n",
    "dataframe['Blood Group'] = ['B+','O+','AB+','A+','O-']\n",
    "dataframe['Sex Code'] = [1,1,1,1,1,]\n",
    "\n",
    "dataframe"
   ]
  },
  {
   "cell_type": "markdown",
   "metadata": {},
   "source": [
    "### Using Dictionary"
   ]
  },
  {
   "cell_type": "code",
   "execution_count": 8,
   "metadata": {},
   "outputs": [
    {
     "data": {
      "text/html": [
       "<div>\n",
       "<style scoped>\n",
       "    .dataframe tbody tr th:only-of-type {\n",
       "        vertical-align: middle;\n",
       "    }\n",
       "\n",
       "    .dataframe tbody tr th {\n",
       "        vertical-align: top;\n",
       "    }\n",
       "\n",
       "    .dataframe thead th {\n",
       "        text-align: right;\n",
       "    }\n",
       "</style>\n",
       "<table border=\"1\" class=\"dataframe\">\n",
       "  <thead>\n",
       "    <tr style=\"text-align: right;\">\n",
       "      <th></th>\n",
       "      <th>name</th>\n",
       "      <th>Age</th>\n",
       "      <th>Blood Group</th>\n",
       "      <th>Sex Code</th>\n",
       "    </tr>\n",
       "  </thead>\n",
       "  <tbody>\n",
       "    <tr>\n",
       "      <th>0</th>\n",
       "      <td>Sharif</td>\n",
       "      <td>26.0</td>\n",
       "      <td>B+</td>\n",
       "      <td>1</td>\n",
       "    </tr>\n",
       "    <tr>\n",
       "      <th>1</th>\n",
       "      <td>Imran</td>\n",
       "      <td>24.0</td>\n",
       "      <td>O+</td>\n",
       "      <td>1</td>\n",
       "    </tr>\n",
       "    <tr>\n",
       "      <th>2</th>\n",
       "      <td>Hanif</td>\n",
       "      <td>NaN</td>\n",
       "      <td>AB+</td>\n",
       "      <td>1</td>\n",
       "    </tr>\n",
       "    <tr>\n",
       "      <th>3</th>\n",
       "      <td>Akib</td>\n",
       "      <td>23.0</td>\n",
       "      <td>A+</td>\n",
       "      <td>1</td>\n",
       "    </tr>\n",
       "    <tr>\n",
       "      <th>4</th>\n",
       "      <td>Fatin</td>\n",
       "      <td>25.0</td>\n",
       "      <td>O-</td>\n",
       "      <td>1</td>\n",
       "    </tr>\n",
       "  </tbody>\n",
       "</table>\n",
       "</div>"
      ],
      "text/plain": [
       "     name   Age Blood Group  Sex Code\n",
       "0  Sharif  26.0          B+         1\n",
       "1   Imran  24.0          O+         1\n",
       "2   Hanif   NaN         AB+         1\n",
       "3    Akib  23.0          A+         1\n",
       "4   Fatin  25.0          O-         1"
      ]
     },
     "execution_count": 8,
     "metadata": {},
     "output_type": "execute_result"
    }
   ],
   "source": [
    "dct = {\n",
    "    \"name\":['Sharif','Imran','Hanif','Akib','Fatin'],\n",
    "    \"Age\":[26,24,np.nan,23,25],\n",
    "    \"Blood Group\": ['B+','O+','AB+','A+','O-'],\n",
    "    \"Sex Code\": [1,1,1,1,1,],\n",
    "}\n",
    "df = pd.DataFrame(dct)\n",
    "df.head()"
   ]
  },
  {
   "cell_type": "markdown",
   "metadata": {},
   "source": [
    "# append new rows to the bottom by SERIES"
   ]
  },
  {
   "cell_type": "code",
   "execution_count": 9,
   "metadata": {},
   "outputs": [
    {
     "data": {
      "text/html": [
       "<div>\n",
       "<style scoped>\n",
       "    .dataframe tbody tr th:only-of-type {\n",
       "        vertical-align: middle;\n",
       "    }\n",
       "\n",
       "    .dataframe tbody tr th {\n",
       "        vertical-align: top;\n",
       "    }\n",
       "\n",
       "    .dataframe thead th {\n",
       "        text-align: right;\n",
       "    }\n",
       "</style>\n",
       "<table border=\"1\" class=\"dataframe\">\n",
       "  <thead>\n",
       "    <tr style=\"text-align: right;\">\n",
       "      <th></th>\n",
       "      <th>Name</th>\n",
       "      <th>Age</th>\n",
       "      <th>Blood Group</th>\n",
       "      <th>Sex Code</th>\n",
       "    </tr>\n",
       "  </thead>\n",
       "  <tbody>\n",
       "    <tr>\n",
       "      <th>0</th>\n",
       "      <td>Sharif</td>\n",
       "      <td>26.0</td>\n",
       "      <td>B+</td>\n",
       "      <td>1</td>\n",
       "    </tr>\n",
       "    <tr>\n",
       "      <th>1</th>\n",
       "      <td>Imran</td>\n",
       "      <td>24.0</td>\n",
       "      <td>O+</td>\n",
       "      <td>1</td>\n",
       "    </tr>\n",
       "    <tr>\n",
       "      <th>2</th>\n",
       "      <td>Hanif</td>\n",
       "      <td>NaN</td>\n",
       "      <td>AB+</td>\n",
       "      <td>1</td>\n",
       "    </tr>\n",
       "    <tr>\n",
       "      <th>3</th>\n",
       "      <td>Akib</td>\n",
       "      <td>23.0</td>\n",
       "      <td>A+</td>\n",
       "      <td>1</td>\n",
       "    </tr>\n",
       "    <tr>\n",
       "      <th>4</th>\n",
       "      <td>Fatin</td>\n",
       "      <td>25.0</td>\n",
       "      <td>O-</td>\n",
       "      <td>1</td>\n",
       "    </tr>\n",
       "    <tr>\n",
       "      <th>5</th>\n",
       "      <td>Kanan Mahmud</td>\n",
       "      <td>30.0</td>\n",
       "      <td>B+</td>\n",
       "      <td>1</td>\n",
       "    </tr>\n",
       "  </tbody>\n",
       "</table>\n",
       "</div>"
      ],
      "text/plain": [
       "           Name   Age Blood Group  Sex Code\n",
       "0        Sharif  26.0          B+         1\n",
       "1         Imran  24.0          O+         1\n",
       "2         Hanif   NaN         AB+         1\n",
       "3          Akib  23.0          A+         1\n",
       "4         Fatin  25.0          O-         1\n",
       "5  Kanan Mahmud  30.0          B+         1"
      ]
     },
     "execution_count": 9,
     "metadata": {},
     "output_type": "execute_result"
    }
   ],
   "source": [
    "new_person = pd.Series(['Kanan Mahmud',30,'B+',1],\n",
    "                       index=['Name','Age','Blood Group','Sex Code'])\n",
    "\n",
    "dataframe.append(new_person, ignore_index=True)"
   ]
  },
  {
   "cell_type": "markdown",
   "metadata": {},
   "source": [
    "# Describe Dataset"
   ]
  },
  {
   "cell_type": "code",
   "execution_count": 10,
   "metadata": {},
   "outputs": [
    {
     "data": {
      "text/plain": [
       "(5, 4)"
      ]
     },
     "execution_count": 10,
     "metadata": {},
     "output_type": "execute_result"
    }
   ],
   "source": [
    "# Show dimensions\n",
    "dataframe.shape"
   ]
  },
  {
   "cell_type": "code",
   "execution_count": 11,
   "metadata": {},
   "outputs": [
    {
     "data": {
      "text/html": [
       "<div>\n",
       "<style scoped>\n",
       "    .dataframe tbody tr th:only-of-type {\n",
       "        vertical-align: middle;\n",
       "    }\n",
       "\n",
       "    .dataframe tbody tr th {\n",
       "        vertical-align: top;\n",
       "    }\n",
       "\n",
       "    .dataframe thead th {\n",
       "        text-align: right;\n",
       "    }\n",
       "</style>\n",
       "<table border=\"1\" class=\"dataframe\">\n",
       "  <thead>\n",
       "    <tr style=\"text-align: right;\">\n",
       "      <th></th>\n",
       "      <th>Age</th>\n",
       "      <th>Sex Code</th>\n",
       "    </tr>\n",
       "  </thead>\n",
       "  <tbody>\n",
       "    <tr>\n",
       "      <th>count</th>\n",
       "      <td>4.000000</td>\n",
       "      <td>5.0</td>\n",
       "    </tr>\n",
       "    <tr>\n",
       "      <th>mean</th>\n",
       "      <td>24.500000</td>\n",
       "      <td>1.0</td>\n",
       "    </tr>\n",
       "    <tr>\n",
       "      <th>std</th>\n",
       "      <td>1.290994</td>\n",
       "      <td>0.0</td>\n",
       "    </tr>\n",
       "    <tr>\n",
       "      <th>min</th>\n",
       "      <td>23.000000</td>\n",
       "      <td>1.0</td>\n",
       "    </tr>\n",
       "    <tr>\n",
       "      <th>25%</th>\n",
       "      <td>23.750000</td>\n",
       "      <td>1.0</td>\n",
       "    </tr>\n",
       "    <tr>\n",
       "      <th>50%</th>\n",
       "      <td>24.500000</td>\n",
       "      <td>1.0</td>\n",
       "    </tr>\n",
       "    <tr>\n",
       "      <th>75%</th>\n",
       "      <td>25.250000</td>\n",
       "      <td>1.0</td>\n",
       "    </tr>\n",
       "    <tr>\n",
       "      <th>max</th>\n",
       "      <td>26.000000</td>\n",
       "      <td>1.0</td>\n",
       "    </tr>\n",
       "  </tbody>\n",
       "</table>\n",
       "</div>"
      ],
      "text/plain": [
       "             Age  Sex Code\n",
       "count   4.000000       5.0\n",
       "mean   24.500000       1.0\n",
       "std     1.290994       0.0\n",
       "min    23.000000       1.0\n",
       "25%    23.750000       1.0\n",
       "50%    24.500000       1.0\n",
       "75%    25.250000       1.0\n",
       "max    26.000000       1.0"
      ]
     },
     "execution_count": 11,
     "metadata": {},
     "output_type": "execute_result"
    }
   ],
   "source": [
    "# Show statistics\n",
    "dataframe.describe()"
   ]
  },
  {
   "cell_type": "markdown",
   "metadata": {},
   "source": [
    "## Calculate Standard Daviation\n",
    "\n",
    "$SD=\\sqrt{\\sum_{i=0}^N\\frac{(x-\\Phi)^2}{N}}$\n",
    "\n",
    "- $\\Phi$ is the mean\n",
    "- N is Total Number of data\n",
    "- SD Standard Daviation"
   ]
  },
  {
   "cell_type": "markdown",
   "metadata": {},
   "source": [
    "# Navigating Data Frame"
   ]
  },
  {
   "cell_type": "code",
   "execution_count": null,
   "metadata": {},
   "outputs": [],
   "source": []
  }
 ],
 "metadata": {
  "kernelspec": {
   "display_name": "Python 3",
   "language": "python",
   "name": "python3"
  },
  "language_info": {
   "codemirror_mode": {
    "name": "ipython",
    "version": 3
   },
   "file_extension": ".py",
   "mimetype": "text/x-python",
   "name": "python",
   "nbconvert_exporter": "python",
   "pygments_lexer": "ipython3",
   "version": "3.6.9"
  }
 },
 "nbformat": 4,
 "nbformat_minor": 2
}
