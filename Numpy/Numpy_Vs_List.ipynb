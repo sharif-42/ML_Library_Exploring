{
 "cells": [
  {
   "cell_type": "markdown",
   "metadata": {},
   "source": [
    "# Numpy Vs List"
   ]
  },
  {
   "cell_type": "code",
   "execution_count": 32,
   "metadata": {},
   "outputs": [],
   "source": [
    "import numpy as np\n",
    "\n",
    "# List \n",
    "L = [1,2,3]\n",
    "\n",
    "A = np.array([1,2,3])"
   ]
  },
  {
   "cell_type": "markdown",
   "metadata": {},
   "source": [
    "# Append Method"
   ]
  },
  {
   "cell_type": "code",
   "execution_count": 33,
   "metadata": {},
   "outputs": [
    {
     "name": "stdout",
     "output_type": "stream",
     "text": [
      "[1, 2, 3, 4]\n",
      "'numpy.ndarray' object has no attribute 'append'\n"
     ]
    }
   ],
   "source": [
    "# Numpy doesn't support Append Method\n",
    "\n",
    "L.append(4)\n",
    "print(L)\n",
    "\n",
    "try:\n",
    "    A.append(4)\n",
    "    print(A)\n",
    "except Exception as e:\n",
    "    print(e)"
   ]
  },
  {
   "cell_type": "markdown",
   "metadata": {},
   "source": [
    "# Concatetion"
   ]
  },
  {
   "cell_type": "code",
   "execution_count": 34,
   "metadata": {},
   "outputs": [
    {
     "name": "stdout",
     "output_type": "stream",
     "text": [
      "[1, 2, 3, 4, 5]\n",
      "operands could not be broadcast together with shapes (3,) (2,) \n"
     ]
    }
   ],
   "source": [
    "# Numpy Doesn't Support List Like Concatenation.\n",
    "L = L + [5]\n",
    "print(L)\n",
    "try:\n",
    "    A = A + [4,5]\n",
    "    print(A)\n",
    "except Exception as e:\n",
    "    print(e)"
   ]
  },
  {
   "cell_type": "code",
   "execution_count": 35,
   "metadata": {},
   "outputs": [
    {
     "name": "stdout",
     "output_type": "stream",
     "text": [
      "[1, 2, 3, 4, 5, 1, 2, 3, 4, 5]\n",
      "[2 4 6]\n"
     ]
    }
   ],
   "source": [
    "# See Output to know the diffirences\n",
    "\n",
    "print(L + L)\n",
    "\n",
    "print(A + A)"
   ]
  },
  {
   "cell_type": "markdown",
   "metadata": {},
   "source": [
    "# Multiplication"
   ]
  },
  {
   "cell_type": "code",
   "execution_count": 36,
   "metadata": {},
   "outputs": [
    {
     "name": "stdout",
     "output_type": "stream",
     "text": [
      "[2 4 6]\n",
      "[1, 2, 3, 4, 5, 1, 2, 3, 4, 5]\n"
     ]
    }
   ],
   "source": [
    "try:\n",
    "    A = A + [4,5]\n",
    "    print(A)\n",
    "except Exception as e:\n",
    "    print(e)print(A*2)\n",
    "print(L*2)"
   ]
  },
  {
   "cell_type": "markdown",
   "metadata": {},
   "source": [
    "# Squaring "
   ]
  },
  {
   "cell_type": "code",
   "execution_count": 39,
   "metadata": {},
   "outputs": [
    {
     "name": "stdout",
     "output_type": "stream",
     "text": [
      "[1 4 9]\n",
      "unsupported operand type(s) for ** or pow(): 'list' and 'int'\n",
      "[1, 4, 9, 16, 25]\n"
     ]
    }
   ],
   "source": [
    "# For Numpy\n",
    "print(A**2)\n",
    "\n",
    "# List Doesn't Support This Kinds of operation\n",
    "try:\n",
    "    print(L**2)\n",
    "except Exception as e:\n",
    "    print(e)\n",
    "    \n",
    "# To do so, we have to iterate through the loop\n",
    "L2 = []\n",
    "for i in L:\n",
    "    L2.append(i*i)\n",
    "\n",
    "print(L2)\n",
    "    "
   ]
  },
  {
   "cell_type": "markdown",
   "metadata": {},
   "source": [
    "# Other Operations"
   ]
  },
  {
   "cell_type": "code",
   "execution_count": 42,
   "metadata": {},
   "outputs": [
    {
     "data": {
      "text/plain": [
       "array([ 2.71828183,  7.3890561 , 20.08553692])"
      ]
     },
     "execution_count": 42,
     "metadata": {},
     "output_type": "execute_result"
    }
   ],
   "source": [
    "# sqrt\n",
    "np.sqrt(A)\n",
    "\n",
    "# Log\n",
    "np.log(A)\n",
    "\n",
    "# exponential\n",
    "np.exp(A)"
   ]
  },
  {
   "cell_type": "code",
   "execution_count": null,
   "metadata": {},
   "outputs": [],
   "source": []
  }
 ],
 "metadata": {
  "kernelspec": {
   "display_name": "Python 3",
   "language": "python",
   "name": "python3"
  },
  "language_info": {
   "codemirror_mode": {
    "name": "ipython",
    "version": 3
   },
   "file_extension": ".py",
   "mimetype": "text/x-python",
   "name": "python",
   "nbconvert_exporter": "python",
   "pygments_lexer": "ipython3",
   "version": "3.6.9"
  }
 },
 "nbformat": 4,
 "nbformat_minor": 2
}
