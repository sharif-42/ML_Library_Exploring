{
 "cells": [
  {
   "cell_type": "markdown",
   "metadata": {},
   "source": [
    "# DataFrame\n"
   ]
  },
  {
   "cell_type": "markdown",
   "metadata": {},
   "source": [
    "## Creating a Pandas DataFrame\n"
   ]
  },
  {
   "cell_type": "code",
   "execution_count": 100,
   "metadata": {},
   "outputs": [
    {
     "ename": "SyntaxError",
     "evalue": "invalid syntax (<ipython-input-100-5b548e7f531e>, line 3)",
     "output_type": "error",
     "traceback": [
      "\u001b[0;36m  File \u001b[0;32m\"<ipython-input-100-5b548e7f531e>\"\u001b[0;36m, line \u001b[0;32m3\u001b[0m\n\u001b[0;31m    https://www.geeksforgeeks.org/python-pandas-dataframe/\u001b[0m\n\u001b[0m           ^\u001b[0m\n\u001b[0;31mSyntaxError\u001b[0m\u001b[0;31m:\u001b[0m invalid syntax\n"
     ]
    }
   ],
   "source": [
    "import pandas as pd\n",
    "import numpy as np\n",
    "# https://www.geeksforgeeks.org/python-pandas-dataframe/\n",
    "# https://towardsdatascience.com/plotting-with-python-c2561b8c0f1f#b330"
   ]
  },
  {
   "cell_type": "markdown",
   "metadata": {},
   "source": [
    "### Create Dataframe From List"
   ]
  },
  {
   "cell_type": "code",
   "execution_count": 72,
   "metadata": {},
   "outputs": [
    {
     "data": {
      "text/html": [
       "<div>\n",
       "<style scoped>\n",
       "    .dataframe tbody tr th:only-of-type {\n",
       "        vertical-align: middle;\n",
       "    }\n",
       "\n",
       "    .dataframe tbody tr th {\n",
       "        vertical-align: top;\n",
       "    }\n",
       "\n",
       "    .dataframe thead th {\n",
       "        text-align: right;\n",
       "    }\n",
       "</style>\n",
       "<table border=\"1\" class=\"dataframe\">\n",
       "  <thead>\n",
       "    <tr style=\"text-align: right;\">\n",
       "      <th></th>\n",
       "      <th>0</th>\n",
       "    </tr>\n",
       "  </thead>\n",
       "  <tbody>\n",
       "    <tr>\n",
       "      <th>0</th>\n",
       "      <td>one</td>\n",
       "    </tr>\n",
       "    <tr>\n",
       "      <th>1</th>\n",
       "      <td>Two</td>\n",
       "    </tr>\n",
       "    <tr>\n",
       "      <th>2</th>\n",
       "      <td>NaN</td>\n",
       "    </tr>\n",
       "    <tr>\n",
       "      <th>3</th>\n",
       "      <td>Four</td>\n",
       "    </tr>\n",
       "    <tr>\n",
       "      <th>4</th>\n",
       "      <td>5</td>\n",
       "    </tr>\n",
       "    <tr>\n",
       "      <th>5</th>\n",
       "      <td>six</td>\n",
       "    </tr>\n",
       "  </tbody>\n",
       "</table>\n",
       "</div>"
      ],
      "text/plain": [
       "      0\n",
       "0   one\n",
       "1   Two\n",
       "2   NaN\n",
       "3  Four\n",
       "4     5\n",
       "5   six"
      ]
     },
     "execution_count": 72,
     "metadata": {},
     "output_type": "execute_result"
    }
   ],
   "source": [
    "lst = ['one', 'Two', np.nan, 'Four', 5, 'six']\n",
    "\n",
    "df = pd.DataFrame(lst)\n",
    "df"
   ]
  },
  {
   "cell_type": "markdown",
   "metadata": {},
   "source": [
    "### Create Dataframe From Dict"
   ]
  },
  {
   "cell_type": "code",
   "execution_count": 73,
   "metadata": {},
   "outputs": [
    {
     "name": "stdout",
     "output_type": "stream",
     "text": [
      "          Name  Age    Address Qualification\n",
      "Jai        Jai   27      Delhi           Msc\n",
      "Princi  Princi   24     Kanpur            MA\n",
      "Gaurav  Gaurav   22  Allahabad           MCA\n",
      "Anuj      Anuj   32    Kannauj           Phd\n"
     ]
    },
    {
     "data": {
      "text/html": [
       "<div>\n",
       "<style scoped>\n",
       "    .dataframe tbody tr th:only-of-type {\n",
       "        vertical-align: middle;\n",
       "    }\n",
       "\n",
       "    .dataframe tbody tr th {\n",
       "        vertical-align: top;\n",
       "    }\n",
       "\n",
       "    .dataframe thead th {\n",
       "        text-align: right;\n",
       "    }\n",
       "</style>\n",
       "<table border=\"1\" class=\"dataframe\">\n",
       "  <thead>\n",
       "    <tr style=\"text-align: right;\">\n",
       "      <th></th>\n",
       "      <th>Name</th>\n",
       "      <th>Age</th>\n",
       "      <th>Address</th>\n",
       "      <th>Qualification</th>\n",
       "    </tr>\n",
       "  </thead>\n",
       "  <tbody>\n",
       "    <tr>\n",
       "      <th>0</th>\n",
       "      <td>Jai</td>\n",
       "      <td>27</td>\n",
       "      <td>Delhi</td>\n",
       "      <td>Msc</td>\n",
       "    </tr>\n",
       "    <tr>\n",
       "      <th>1</th>\n",
       "      <td>Princi</td>\n",
       "      <td>24</td>\n",
       "      <td>Kanpur</td>\n",
       "      <td>MA</td>\n",
       "    </tr>\n",
       "    <tr>\n",
       "      <th>2</th>\n",
       "      <td>Gaurav</td>\n",
       "      <td>22</td>\n",
       "      <td>Allahabad</td>\n",
       "      <td>MCA</td>\n",
       "    </tr>\n",
       "    <tr>\n",
       "      <th>3</th>\n",
       "      <td>Anuj</td>\n",
       "      <td>32</td>\n",
       "      <td>Kannauj</td>\n",
       "      <td>Phd</td>\n",
       "    </tr>\n",
       "  </tbody>\n",
       "</table>\n",
       "</div>"
      ],
      "text/plain": [
       "     Name  Age    Address Qualification\n",
       "0     Jai   27      Delhi           Msc\n",
       "1  Princi   24     Kanpur            MA\n",
       "2  Gaurav   22  Allahabad           MCA\n",
       "3    Anuj   32    Kannauj           Phd"
      ]
     },
     "execution_count": 73,
     "metadata": {},
     "output_type": "execute_result"
    }
   ],
   "source": [
    "# dictionary of lists \n",
    "data = {\n",
    "        'Name':['Jai', 'Princi', 'Gaurav', 'Anuj'],\n",
    "        'Age':[27, 24, 22, 32],\n",
    "        'Address':['Delhi', 'Kanpur', 'Allahabad', 'Kannauj'],\n",
    "        'Qualification':['Msc', 'MA', 'MCA', 'Phd']\n",
    "       }\n",
    "  \n",
    "df = pd.DataFrame(data,index=data['Name']) # To indicate one column as index\n",
    "print(df)\n",
    "df = pd.DataFrame(data) # Auto indexing\n",
    "df"
   ]
  },
  {
   "cell_type": "markdown",
   "metadata": {},
   "source": [
    "## Dealing With Row Column\n",
    "A Data frame is a two-dimensional data structure, i.e., data is aligned in a tabular fashion in rows and columns. \n",
    "We can perform basic operations on rows/columns like selecting, deleting, adding, and renaming. "
   ]
  },
  {
   "cell_type": "markdown",
   "metadata": {},
   "source": [
    "#### Column Selection\n",
    "In Order to select a column in Pandas DataFrame, we can either access the columns by calling them by their columns name."
   ]
  },
  {
   "cell_type": "code",
   "execution_count": 74,
   "metadata": {},
   "outputs": [
    {
     "name": "stdout",
     "output_type": "stream",
     "text": [
      "     Name  Age\n",
      "0     Jai   27\n",
      "1  Princi   24\n",
      "2  Gaurav   22\n",
      "3    Anuj   32\n",
      "\n",
      "\n",
      "\n",
      "0    27\n",
      "1    24\n",
      "2    22\n",
      "3    32\n",
      "Name: Age, dtype: int64\n"
     ]
    }
   ],
   "source": [
    "print(df[['Name','Age']]) # To select multiple column.\n",
    "print('\\n\\n')\n",
    "print(df['Age']) # to select only one column."
   ]
  },
  {
   "cell_type": "markdown",
   "metadata": {},
   "source": [
    "## Dealing With Files"
   ]
  },
  {
   "cell_type": "code",
   "execution_count": 94,
   "metadata": {},
   "outputs": [
    {
     "name": "stdout",
     "output_type": "stream",
     "text": [
      "   id           name   age blood_group gender  experience  \\\n",
      "0   1         Sharif   NaN          B+   male         1.5   \n",
      "1   2   Kanan Mahmud  28.0         NaN   Male         7.5   \n",
      "2   3     Md. Shakil  27.0          B-   Male         3.5   \n",
      "3   4   Imran Sheikh  25.0          B-   Male         1.8   \n",
      "4   5  Farsan Rashid  27.0          O+   Male         4.2   \n",
      "\n",
      "            designation  salary  \n",
      "0  Jr Software Engineer   30000  \n",
      "1  Sr Software Engineer   80000  \n",
      "2     Software Engineer   45000  \n",
      "3  Jr Software Engineer   30000  \n",
      "4     Software Engineer   55000  \n"
     ]
    },
    {
     "data": {
      "text/html": [
       "<div>\n",
       "<style scoped>\n",
       "    .dataframe tbody tr th:only-of-type {\n",
       "        vertical-align: middle;\n",
       "    }\n",
       "\n",
       "    .dataframe tbody tr th {\n",
       "        vertical-align: top;\n",
       "    }\n",
       "\n",
       "    .dataframe thead th {\n",
       "        text-align: right;\n",
       "    }\n",
       "</style>\n",
       "<table border=\"1\" class=\"dataframe\">\n",
       "  <thead>\n",
       "    <tr style=\"text-align: right;\">\n",
       "      <th></th>\n",
       "      <th>id</th>\n",
       "      <th>age</th>\n",
       "      <th>blood_group</th>\n",
       "      <th>gender</th>\n",
       "      <th>experience</th>\n",
       "      <th>designation</th>\n",
       "      <th>salary</th>\n",
       "    </tr>\n",
       "    <tr>\n",
       "      <th>name</th>\n",
       "      <th></th>\n",
       "      <th></th>\n",
       "      <th></th>\n",
       "      <th></th>\n",
       "      <th></th>\n",
       "      <th></th>\n",
       "      <th></th>\n",
       "    </tr>\n",
       "  </thead>\n",
       "  <tbody>\n",
       "    <tr>\n",
       "      <th>Sharif</th>\n",
       "      <td>1</td>\n",
       "      <td>NaN</td>\n",
       "      <td>B+</td>\n",
       "      <td>male</td>\n",
       "      <td>1.5</td>\n",
       "      <td>Jr Software Engineer</td>\n",
       "      <td>30000</td>\n",
       "    </tr>\n",
       "    <tr>\n",
       "      <th>Kanan Mahmud</th>\n",
       "      <td>2</td>\n",
       "      <td>28.0</td>\n",
       "      <td>NaN</td>\n",
       "      <td>Male</td>\n",
       "      <td>7.5</td>\n",
       "      <td>Sr Software Engineer</td>\n",
       "      <td>80000</td>\n",
       "    </tr>\n",
       "    <tr>\n",
       "      <th>Md. Shakil</th>\n",
       "      <td>3</td>\n",
       "      <td>27.0</td>\n",
       "      <td>B-</td>\n",
       "      <td>Male</td>\n",
       "      <td>3.5</td>\n",
       "      <td>Software Engineer</td>\n",
       "      <td>45000</td>\n",
       "    </tr>\n",
       "    <tr>\n",
       "      <th>Imran Sheikh</th>\n",
       "      <td>4</td>\n",
       "      <td>25.0</td>\n",
       "      <td>B-</td>\n",
       "      <td>Male</td>\n",
       "      <td>1.8</td>\n",
       "      <td>Jr Software Engineer</td>\n",
       "      <td>30000</td>\n",
       "    </tr>\n",
       "    <tr>\n",
       "      <th>Farsan Rashid</th>\n",
       "      <td>5</td>\n",
       "      <td>27.0</td>\n",
       "      <td>O+</td>\n",
       "      <td>Male</td>\n",
       "      <td>4.2</td>\n",
       "      <td>Software Engineer</td>\n",
       "      <td>55000</td>\n",
       "    </tr>\n",
       "  </tbody>\n",
       "</table>\n",
       "</div>"
      ],
      "text/plain": [
       "               id   age blood_group gender  experience           designation  \\\n",
       "name                                                                           \n",
       "Sharif          1   NaN          B+   male         1.5  Jr Software Engineer   \n",
       "Kanan Mahmud    2  28.0         NaN   Male         7.5  Sr Software Engineer   \n",
       "Md. Shakil      3  27.0          B-   Male         3.5     Software Engineer   \n",
       "Imran Sheikh    4  25.0          B-   Male         1.8  Jr Software Engineer   \n",
       "Farsan Rashid   5  27.0          O+   Male         4.2     Software Engineer   \n",
       "\n",
       "               salary  \n",
       "name                   \n",
       "Sharif          30000  \n",
       "Kanan Mahmud    80000  \n",
       "Md. Shakil      45000  \n",
       "Imran Sheikh    30000  \n",
       "Farsan Rashid   55000  "
      ]
     },
     "execution_count": 94,
     "metadata": {},
     "output_type": "execute_result"
    }
   ],
   "source": [
    "data_frame = pd.read_csv('dataset/circle_employee.csv') # Read CSV files by auto-indexing\n",
    "print(data_frame.head())\n",
    "data_frame = pd.read_csv('dataset/circle_employee.csv', index_col='name') # Read CSV files by making one column as index\n",
    "data_frame.head()\n"
   ]
  },
  {
   "cell_type": "code",
   "execution_count": 77,
   "metadata": {},
   "outputs": [
    {
     "name": "stdout",
     "output_type": "stream",
     "text": [
      "id\n",
      "1          Sharif\n",
      "2    Kanan Mahmud\n",
      "3      Md. Shakil\n",
      "4    Imran Sheikh\n",
      "Name: name, dtype: object\n"
     ]
    }
   ],
   "source": [
    "print(data_frame['name'][:4]) # for specific column"
   ]
  },
  {
   "cell_type": "markdown",
   "metadata": {},
   "source": [
    "### Row Selection\n",
    "Pandas provide a unique method to retrieve rows from a Data frame. DataFrame.loc[] method is used \n",
    "to retrieve rows from Pandas DataFrame. Rows can also be selected by passing integer location to an iloc[] function.\n",
    "\n",
    "**.loc[ ] :** This function selects data by the label of the rows and columns. The **DataFrame.loc** indexer selects data in a different way than just the indexing operator. It can select subsets of rows or columns. It can also simultaneously select subsets of rows and columns.\n",
    "\n",
    "**.iloc[ ] :** This function allows us to retrieve rows and columns by position. In order to do that, we’ll need to specify the positions of the rows that we want, and the positions of the columns that we want as well. The df.iloc indexer is very similar to **DataFrame.loc** but only uses integer locations to make its selections."
   ]
  },
  {
   "cell_type": "code",
   "execution_count": 96,
   "metadata": {},
   "outputs": [
    {
     "name": "stdout",
     "output_type": "stream",
     "text": [
      "id                                1\n",
      "age                             NaN\n",
      "blood_group                      B+\n",
      "gender                         male\n",
      "experience                      1.5\n",
      "designation    Jr Software Engineer\n",
      "salary                        30000\n",
      "Name: Sharif, dtype: object\n"
     ]
    }
   ],
   "source": [
    "try:\n",
    "    second = data_frame.loc['Sharif']\n",
    "    print(second)\n",
    "except Exception as e:\n",
    "    print(e)"
   ]
  },
  {
   "cell_type": "code",
   "execution_count": null,
   "metadata": {},
   "outputs": [],
   "source": []
  },
  {
   "cell_type": "markdown",
   "metadata": {},
   "source": [
    "## Working With Missing Value\n",
    "Missing Data can occur when no information is provided for one or more items or for a whole unit. Missing Data is a very big problem in real life scenario. Missing Data can also refer to as NA(Not Available) values in pandas."
   ]
  },
  {
   "cell_type": "code",
   "execution_count": null,
   "metadata": {},
   "outputs": [],
   "source": []
  }
 ],
 "metadata": {
  "kernelspec": {
   "display_name": "Python 3",
   "language": "python",
   "name": "python3"
  },
  "language_info": {
   "codemirror_mode": {
    "name": "ipython",
    "version": 3
   },
   "file_extension": ".py",
   "mimetype": "text/x-python",
   "name": "python",
   "nbconvert_exporter": "python",
   "pygments_lexer": "ipython3",
   "version": "3.6.9"
  }
 },
 "nbformat": 4,
 "nbformat_minor": 2
}
