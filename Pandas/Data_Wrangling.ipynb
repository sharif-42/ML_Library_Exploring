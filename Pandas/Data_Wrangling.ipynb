{
 "cells": [
  {
   "cell_type": "markdown",
   "metadata": {},
   "source": [
    "# Data wrangling\n",
    "\n",
    "Data wrangling is a broad term used, often informally, to describe the process of\n",
    "transforming raw data to a clean and organized format ready for use. For us, data\n",
    "wrangling is only one step in preprocessing our data, but it is an important step.\n",
    "\n",
    "The most common data structure used to “wrangle” data is the data frame, which can\n",
    "be both intuitive and incredibly versatile. Data frames are tabular, meaning that they\n",
    "are based on rows and columns like you would see in a spreadsheet\n",
    "\n",
    "**[To Know More About Markdown Latext](https://csrgxtu.github.io/2015/03/20/Writing-Mathematic-Fomulars-in-Markdown/)**"
   ]
  },
  {
   "cell_type": "code",
   "execution_count": 139,
   "metadata": {},
   "outputs": [],
   "source": [
    "import pandas as pd\n",
    "import numpy as np\n",
    "import matplotlib.pyplot as plt\n",
    "import sklearn\n",
    "import scipy"
   ]
  },
  {
   "cell_type": "markdown",
   "metadata": {},
   "source": [
    "# Load CSV File"
   ]
  },
  {
   "cell_type": "code",
   "execution_count": 140,
   "metadata": {},
   "outputs": [
    {
     "data": {
      "text/html": [
       "<div>\n",
       "<style scoped>\n",
       "    .dataframe tbody tr th:only-of-type {\n",
       "        vertical-align: middle;\n",
       "    }\n",
       "\n",
       "    .dataframe tbody tr th {\n",
       "        vertical-align: top;\n",
       "    }\n",
       "\n",
       "    .dataframe thead th {\n",
       "        text-align: right;\n",
       "    }\n",
       "</style>\n",
       "<table border=\"1\" class=\"dataframe\">\n",
       "  <thead>\n",
       "    <tr style=\"text-align: right;\">\n",
       "      <th></th>\n",
       "      <th>id</th>\n",
       "      <th>name</th>\n",
       "      <th>age</th>\n",
       "      <th>blood_group</th>\n",
       "      <th>gender</th>\n",
       "      <th>experience</th>\n",
       "      <th>designation</th>\n",
       "      <th>salary</th>\n",
       "    </tr>\n",
       "  </thead>\n",
       "  <tbody>\n",
       "    <tr>\n",
       "      <th>0</th>\n",
       "      <td>1</td>\n",
       "      <td>Sharif</td>\n",
       "      <td>NaN</td>\n",
       "      <td>B+</td>\n",
       "      <td>male</td>\n",
       "      <td>1.5</td>\n",
       "      <td>Jr Software Engineer</td>\n",
       "      <td>30000</td>\n",
       "    </tr>\n",
       "    <tr>\n",
       "      <th>1</th>\n",
       "      <td>2</td>\n",
       "      <td>Kanan Mahmud</td>\n",
       "      <td>28.0</td>\n",
       "      <td>NaN</td>\n",
       "      <td>Male</td>\n",
       "      <td>7.5</td>\n",
       "      <td>Sr Software Engineer</td>\n",
       "      <td>80000</td>\n",
       "    </tr>\n",
       "    <tr>\n",
       "      <th>2</th>\n",
       "      <td>3</td>\n",
       "      <td>Md. Shakil</td>\n",
       "      <td>27.0</td>\n",
       "      <td>B-</td>\n",
       "      <td>Male</td>\n",
       "      <td>3.5</td>\n",
       "      <td>Software Engineer</td>\n",
       "      <td>45000</td>\n",
       "    </tr>\n",
       "    <tr>\n",
       "      <th>3</th>\n",
       "      <td>4</td>\n",
       "      <td>Imran Sheikh</td>\n",
       "      <td>25.0</td>\n",
       "      <td>B-</td>\n",
       "      <td>Male</td>\n",
       "      <td>1.8</td>\n",
       "      <td>Jr Software Engineer</td>\n",
       "      <td>30000</td>\n",
       "    </tr>\n",
       "    <tr>\n",
       "      <th>4</th>\n",
       "      <td>5</td>\n",
       "      <td>Farsan Rashid</td>\n",
       "      <td>27.0</td>\n",
       "      <td>O+</td>\n",
       "      <td>Male</td>\n",
       "      <td>4.2</td>\n",
       "      <td>Software Engineer</td>\n",
       "      <td>55000</td>\n",
       "    </tr>\n",
       "  </tbody>\n",
       "</table>\n",
       "</div>"
      ],
      "text/plain": [
       "   id           name   age blood_group gender  experience  \\\n",
       "0   1         Sharif   NaN          B+   male         1.5   \n",
       "1   2   Kanan Mahmud  28.0         NaN   Male         7.5   \n",
       "2   3     Md. Shakil  27.0          B-   Male         3.5   \n",
       "3   4   Imran Sheikh  25.0          B-   Male         1.8   \n",
       "4   5  Farsan Rashid  27.0          O+   Male         4.2   \n",
       "\n",
       "            designation  salary  \n",
       "0  Jr Software Engineer   30000  \n",
       "1  Sr Software Engineer   80000  \n",
       "2     Software Engineer   45000  \n",
       "3  Jr Software Engineer   30000  \n",
       "4     Software Engineer   55000  "
      ]
     },
     "execution_count": 140,
     "metadata": {},
     "output_type": "execute_result"
    }
   ],
   "source": [
    "# Read CSV files by making one column as index\n",
    "# data_frame = pd.read_csv('dataset/circle_employee.csv', index_col='name') \n",
    "\n",
    "df = pd.read_csv('dataset/circle_employee.csv')\n",
    "df.head()"
   ]
  },
  {
   "cell_type": "markdown",
   "metadata": {},
   "source": [
    "# Create Dataframe\n",
    "\n",
    "### Using List"
   ]
  },
  {
   "cell_type": "code",
   "execution_count": 131,
   "metadata": {},
   "outputs": [
    {
     "data": {
      "text/html": [
       "<div>\n",
       "<style scoped>\n",
       "    .dataframe tbody tr th:only-of-type {\n",
       "        vertical-align: middle;\n",
       "    }\n",
       "\n",
       "    .dataframe tbody tr th {\n",
       "        vertical-align: top;\n",
       "    }\n",
       "\n",
       "    .dataframe thead th {\n",
       "        text-align: right;\n",
       "    }\n",
       "</style>\n",
       "<table border=\"1\" class=\"dataframe\">\n",
       "  <thead>\n",
       "    <tr style=\"text-align: right;\">\n",
       "      <th></th>\n",
       "      <th>Name</th>\n",
       "      <th>Age</th>\n",
       "      <th>Blood Group</th>\n",
       "      <th>Sex Code</th>\n",
       "    </tr>\n",
       "  </thead>\n",
       "  <tbody>\n",
       "    <tr>\n",
       "      <th>0</th>\n",
       "      <td>Sharif</td>\n",
       "      <td>26.0</td>\n",
       "      <td>B+</td>\n",
       "      <td>1</td>\n",
       "    </tr>\n",
       "    <tr>\n",
       "      <th>1</th>\n",
       "      <td>Imran</td>\n",
       "      <td>24.0</td>\n",
       "      <td>O+</td>\n",
       "      <td>1</td>\n",
       "    </tr>\n",
       "    <tr>\n",
       "      <th>2</th>\n",
       "      <td>Hanif</td>\n",
       "      <td>NaN</td>\n",
       "      <td>AB+</td>\n",
       "      <td>1</td>\n",
       "    </tr>\n",
       "    <tr>\n",
       "      <th>3</th>\n",
       "      <td>Akib</td>\n",
       "      <td>23.0</td>\n",
       "      <td>A+</td>\n",
       "      <td>1</td>\n",
       "    </tr>\n",
       "    <tr>\n",
       "      <th>4</th>\n",
       "      <td>Fatin</td>\n",
       "      <td>25.0</td>\n",
       "      <td>O-</td>\n",
       "      <td>1</td>\n",
       "    </tr>\n",
       "    <tr>\n",
       "      <th>5</th>\n",
       "      <td>Irfan</td>\n",
       "      <td>29.0</td>\n",
       "      <td>AB+</td>\n",
       "      <td>1</td>\n",
       "    </tr>\n",
       "    <tr>\n",
       "      <th>6</th>\n",
       "      <td>Akash</td>\n",
       "      <td>36.0</td>\n",
       "      <td>AB+</td>\n",
       "      <td>1</td>\n",
       "    </tr>\n",
       "    <tr>\n",
       "      <th>7</th>\n",
       "      <td>Mahrez</td>\n",
       "      <td>22.0</td>\n",
       "      <td>O+</td>\n",
       "      <td>1</td>\n",
       "    </tr>\n",
       "  </tbody>\n",
       "</table>\n",
       "</div>"
      ],
      "text/plain": [
       "     Name   Age Blood Group  Sex Code\n",
       "0  Sharif  26.0          B+         1\n",
       "1   Imran  24.0          O+         1\n",
       "2   Hanif   NaN         AB+         1\n",
       "3    Akib  23.0          A+         1\n",
       "4   Fatin  25.0          O-         1\n",
       "5   Irfan  29.0         AB+         1\n",
       "6   Akash  36.0         AB+         1\n",
       "7  Mahrez  22.0          O+         1"
      ]
     },
     "execution_count": 131,
     "metadata": {},
     "output_type": "execute_result"
    }
   ],
   "source": [
    "dataframe = pd.DataFrame()\n",
    "\n",
    "dataframe['Name'] = ['Sharif','Imran','Hanif','Akib','Fatin','Irfan', 'Akash', 'Mahrez']\n",
    "dataframe['Age'] = [26,24,np.nan,23,25,29,36,22]\n",
    "dataframe['Blood Group'] = ['B+','O+','AB+','A+','O-','AB+', 'AB+', 'O+']\n",
    "dataframe['Sex Code'] = [1,1,1,1,1,1,1,1]\n",
    "\n",
    "dataframe"
   ]
  },
  {
   "cell_type": "markdown",
   "metadata": {},
   "source": [
    "### Using Dictionary"
   ]
  },
  {
   "cell_type": "code",
   "execution_count": 142,
   "metadata": {},
   "outputs": [
    {
     "data": {
      "text/html": [
       "<div>\n",
       "<style scoped>\n",
       "    .dataframe tbody tr th:only-of-type {\n",
       "        vertical-align: middle;\n",
       "    }\n",
       "\n",
       "    .dataframe tbody tr th {\n",
       "        vertical-align: top;\n",
       "    }\n",
       "\n",
       "    .dataframe thead th {\n",
       "        text-align: right;\n",
       "    }\n",
       "</style>\n",
       "<table border=\"1\" class=\"dataframe\">\n",
       "  <thead>\n",
       "    <tr style=\"text-align: right;\">\n",
       "      <th></th>\n",
       "      <th>name</th>\n",
       "      <th>Age</th>\n",
       "      <th>Blood Group</th>\n",
       "      <th>Sex Code</th>\n",
       "    </tr>\n",
       "  </thead>\n",
       "  <tbody>\n",
       "    <tr>\n",
       "      <th>0</th>\n",
       "      <td>Sharif</td>\n",
       "      <td>26.0</td>\n",
       "      <td>B+</td>\n",
       "      <td>1</td>\n",
       "    </tr>\n",
       "    <tr>\n",
       "      <th>1</th>\n",
       "      <td>Imran</td>\n",
       "      <td>24.0</td>\n",
       "      <td>O+</td>\n",
       "      <td>1</td>\n",
       "    </tr>\n",
       "    <tr>\n",
       "      <th>2</th>\n",
       "      <td>Hanif</td>\n",
       "      <td>NaN</td>\n",
       "      <td>AB+</td>\n",
       "      <td>1</td>\n",
       "    </tr>\n",
       "    <tr>\n",
       "      <th>3</th>\n",
       "      <td>Akib</td>\n",
       "      <td>23.0</td>\n",
       "      <td>A+</td>\n",
       "      <td>1</td>\n",
       "    </tr>\n",
       "    <tr>\n",
       "      <th>4</th>\n",
       "      <td>Fatin</td>\n",
       "      <td>25.0</td>\n",
       "      <td>O-</td>\n",
       "      <td>1</td>\n",
       "    </tr>\n",
       "    <tr>\n",
       "      <th>5</th>\n",
       "      <td>Irfan</td>\n",
       "      <td>29.0</td>\n",
       "      <td>AB+</td>\n",
       "      <td>1</td>\n",
       "    </tr>\n",
       "    <tr>\n",
       "      <th>6</th>\n",
       "      <td>Akash</td>\n",
       "      <td>36.0</td>\n",
       "      <td>AB+</td>\n",
       "      <td>1</td>\n",
       "    </tr>\n",
       "    <tr>\n",
       "      <th>7</th>\n",
       "      <td>Mahrez</td>\n",
       "      <td>22.0</td>\n",
       "      <td>O+</td>\n",
       "      <td>1</td>\n",
       "    </tr>\n",
       "  </tbody>\n",
       "</table>\n",
       "</div>"
      ],
      "text/plain": [
       "     name   Age Blood Group  Sex Code\n",
       "0  Sharif  26.0          B+         1\n",
       "1   Imran  24.0          O+         1\n",
       "2   Hanif   NaN         AB+         1\n",
       "3    Akib  23.0          A+         1\n",
       "4   Fatin  25.0          O-         1\n",
       "5   Irfan  29.0         AB+         1\n",
       "6   Akash  36.0         AB+         1\n",
       "7  Mahrez  22.0          O+         1"
      ]
     },
     "execution_count": 142,
     "metadata": {},
     "output_type": "execute_result"
    }
   ],
   "source": [
    "dct = {\n",
    "    \"name\":['Sharif','Imran','Hanif','Akib','Fatin','Irfan', 'Akash', 'Mahrez'],\n",
    "    \"Age\":[26,24,np.nan,23,25,29,36,22],\n",
    "    \"Blood Group\": ['B+','O+','AB+','A+','O-','AB+', 'AB+', 'O+'],\n",
    "    \"Sex Code\": [1,1,1,1,1,1,1,1]\n",
    "}\n",
    "df = pd.DataFrame(dct)\n",
    "df"
   ]
  },
  {
   "cell_type": "markdown",
   "metadata": {},
   "source": [
    "# append new rows to the bottom by SERIES"
   ]
  },
  {
   "cell_type": "code",
   "execution_count": 143,
   "metadata": {},
   "outputs": [
    {
     "data": {
      "text/html": [
       "<div>\n",
       "<style scoped>\n",
       "    .dataframe tbody tr th:only-of-type {\n",
       "        vertical-align: middle;\n",
       "    }\n",
       "\n",
       "    .dataframe tbody tr th {\n",
       "        vertical-align: top;\n",
       "    }\n",
       "\n",
       "    .dataframe thead th {\n",
       "        text-align: right;\n",
       "    }\n",
       "</style>\n",
       "<table border=\"1\" class=\"dataframe\">\n",
       "  <thead>\n",
       "    <tr style=\"text-align: right;\">\n",
       "      <th></th>\n",
       "      <th>Name</th>\n",
       "      <th>Age</th>\n",
       "      <th>Blood Group</th>\n",
       "      <th>Sex Code</th>\n",
       "    </tr>\n",
       "  </thead>\n",
       "  <tbody>\n",
       "    <tr>\n",
       "      <th>0</th>\n",
       "      <td>Sharif</td>\n",
       "      <td>26.0</td>\n",
       "      <td>B+</td>\n",
       "      <td>1</td>\n",
       "    </tr>\n",
       "    <tr>\n",
       "      <th>1</th>\n",
       "      <td>Imran</td>\n",
       "      <td>24.0</td>\n",
       "      <td>O+</td>\n",
       "      <td>1</td>\n",
       "    </tr>\n",
       "    <tr>\n",
       "      <th>2</th>\n",
       "      <td>Hanif</td>\n",
       "      <td>NaN</td>\n",
       "      <td>AB+</td>\n",
       "      <td>1</td>\n",
       "    </tr>\n",
       "    <tr>\n",
       "      <th>3</th>\n",
       "      <td>Akib</td>\n",
       "      <td>23.0</td>\n",
       "      <td>A+</td>\n",
       "      <td>1</td>\n",
       "    </tr>\n",
       "    <tr>\n",
       "      <th>4</th>\n",
       "      <td>Fatin</td>\n",
       "      <td>25.0</td>\n",
       "      <td>O-</td>\n",
       "      <td>1</td>\n",
       "    </tr>\n",
       "    <tr>\n",
       "      <th>5</th>\n",
       "      <td>Irfan</td>\n",
       "      <td>29.0</td>\n",
       "      <td>AB+</td>\n",
       "      <td>1</td>\n",
       "    </tr>\n",
       "    <tr>\n",
       "      <th>6</th>\n",
       "      <td>Akash</td>\n",
       "      <td>36.0</td>\n",
       "      <td>AB+</td>\n",
       "      <td>1</td>\n",
       "    </tr>\n",
       "    <tr>\n",
       "      <th>7</th>\n",
       "      <td>Mahrez</td>\n",
       "      <td>22.0</td>\n",
       "      <td>O+</td>\n",
       "      <td>1</td>\n",
       "    </tr>\n",
       "    <tr>\n",
       "      <th>8</th>\n",
       "      <td>Kanan Mahmud</td>\n",
       "      <td>30.0</td>\n",
       "      <td>B+</td>\n",
       "      <td>1</td>\n",
       "    </tr>\n",
       "  </tbody>\n",
       "</table>\n",
       "</div>"
      ],
      "text/plain": [
       "           Name   Age Blood Group  Sex Code\n",
       "0        Sharif  26.0          B+         1\n",
       "1         Imran  24.0          O+         1\n",
       "2         Hanif   NaN         AB+         1\n",
       "3          Akib  23.0          A+         1\n",
       "4         Fatin  25.0          O-         1\n",
       "5         Irfan  29.0         AB+         1\n",
       "6         Akash  36.0         AB+         1\n",
       "7        Mahrez  22.0          O+         1\n",
       "8  Kanan Mahmud  30.0          B+         1"
      ]
     },
     "execution_count": 143,
     "metadata": {},
     "output_type": "execute_result"
    }
   ],
   "source": [
    "new_person = pd.Series(['Kanan Mahmud',30,'B+',1],\n",
    "                       index=['Name','Age','Blood Group','Sex Code'])\n",
    "\n",
    "dataframe.append(new_person, ignore_index=True)"
   ]
  },
  {
   "cell_type": "markdown",
   "metadata": {},
   "source": [
    "# Describe Dataset"
   ]
  },
  {
   "cell_type": "code",
   "execution_count": 144,
   "metadata": {},
   "outputs": [
    {
     "data": {
      "text/plain": [
       "(8, 4)"
      ]
     },
     "execution_count": 144,
     "metadata": {},
     "output_type": "execute_result"
    }
   ],
   "source": [
    "# Show dimensions\n",
    "dataframe.shape"
   ]
  },
  {
   "cell_type": "code",
   "execution_count": 145,
   "metadata": {},
   "outputs": [
    {
     "data": {
      "text/html": [
       "<div>\n",
       "<style scoped>\n",
       "    .dataframe tbody tr th:only-of-type {\n",
       "        vertical-align: middle;\n",
       "    }\n",
       "\n",
       "    .dataframe tbody tr th {\n",
       "        vertical-align: top;\n",
       "    }\n",
       "\n",
       "    .dataframe thead th {\n",
       "        text-align: right;\n",
       "    }\n",
       "</style>\n",
       "<table border=\"1\" class=\"dataframe\">\n",
       "  <thead>\n",
       "    <tr style=\"text-align: right;\">\n",
       "      <th></th>\n",
       "      <th>Age</th>\n",
       "      <th>Sex Code</th>\n",
       "    </tr>\n",
       "  </thead>\n",
       "  <tbody>\n",
       "    <tr>\n",
       "      <th>count</th>\n",
       "      <td>7.000000</td>\n",
       "      <td>8.0</td>\n",
       "    </tr>\n",
       "    <tr>\n",
       "      <th>mean</th>\n",
       "      <td>26.428571</td>\n",
       "      <td>1.0</td>\n",
       "    </tr>\n",
       "    <tr>\n",
       "      <th>std</th>\n",
       "      <td>4.790864</td>\n",
       "      <td>0.0</td>\n",
       "    </tr>\n",
       "    <tr>\n",
       "      <th>min</th>\n",
       "      <td>22.000000</td>\n",
       "      <td>1.0</td>\n",
       "    </tr>\n",
       "    <tr>\n",
       "      <th>25%</th>\n",
       "      <td>23.500000</td>\n",
       "      <td>1.0</td>\n",
       "    </tr>\n",
       "    <tr>\n",
       "      <th>50%</th>\n",
       "      <td>25.000000</td>\n",
       "      <td>1.0</td>\n",
       "    </tr>\n",
       "    <tr>\n",
       "      <th>75%</th>\n",
       "      <td>27.500000</td>\n",
       "      <td>1.0</td>\n",
       "    </tr>\n",
       "    <tr>\n",
       "      <th>max</th>\n",
       "      <td>36.000000</td>\n",
       "      <td>1.0</td>\n",
       "    </tr>\n",
       "  </tbody>\n",
       "</table>\n",
       "</div>"
      ],
      "text/plain": [
       "             Age  Sex Code\n",
       "count   7.000000       8.0\n",
       "mean   26.428571       1.0\n",
       "std     4.790864       0.0\n",
       "min    22.000000       1.0\n",
       "25%    23.500000       1.0\n",
       "50%    25.000000       1.0\n",
       "75%    27.500000       1.0\n",
       "max    36.000000       1.0"
      ]
     },
     "execution_count": 145,
     "metadata": {},
     "output_type": "execute_result"
    }
   ],
   "source": [
    "# Show statistics\n",
    "dataframe.describe()"
   ]
  },
  {
   "cell_type": "markdown",
   "metadata": {},
   "source": [
    "## Calculate Standard Daviation\n",
    "\n",
    "$SD=\\sqrt{\\sum_{i=0}^N\\frac{(x-\\Phi)^2}{N}}$\n",
    "\n",
    "- $\\Phi$ is the mean\n",
    "- N is Total Number of data\n",
    "- SD Standard Daviation"
   ]
  },
  {
   "cell_type": "markdown",
   "metadata": {},
   "source": [
    "# Select one or more rows or values"
   ]
  },
  {
   "cell_type": "code",
   "execution_count": 146,
   "metadata": {},
   "outputs": [
    {
     "name": "stdout",
     "output_type": "stream",
     "text": [
      "Name           Sharif\n",
      "Age                26\n",
      "Blood Group        B+\n",
      "Sex Code            1\n",
      "Name: 0, dtype: object\n"
     ]
    },
    {
     "data": {
      "text/html": [
       "<div>\n",
       "<style scoped>\n",
       "    .dataframe tbody tr th:only-of-type {\n",
       "        vertical-align: middle;\n",
       "    }\n",
       "\n",
       "    .dataframe tbody tr th {\n",
       "        vertical-align: top;\n",
       "    }\n",
       "\n",
       "    .dataframe thead th {\n",
       "        text-align: right;\n",
       "    }\n",
       "</style>\n",
       "<table border=\"1\" class=\"dataframe\">\n",
       "  <thead>\n",
       "    <tr style=\"text-align: right;\">\n",
       "      <th></th>\n",
       "      <th>Name</th>\n",
       "      <th>Age</th>\n",
       "      <th>Blood Group</th>\n",
       "      <th>Sex Code</th>\n",
       "    </tr>\n",
       "  </thead>\n",
       "  <tbody>\n",
       "    <tr>\n",
       "      <th>0</th>\n",
       "      <td>Sharif</td>\n",
       "      <td>26.0</td>\n",
       "      <td>B+</td>\n",
       "      <td>1</td>\n",
       "    </tr>\n",
       "    <tr>\n",
       "      <th>1</th>\n",
       "      <td>Imran</td>\n",
       "      <td>24.0</td>\n",
       "      <td>O+</td>\n",
       "      <td>1</td>\n",
       "    </tr>\n",
       "    <tr>\n",
       "      <th>2</th>\n",
       "      <td>Hanif</td>\n",
       "      <td>NaN</td>\n",
       "      <td>AB+</td>\n",
       "      <td>1</td>\n",
       "    </tr>\n",
       "    <tr>\n",
       "      <th>3</th>\n",
       "      <td>Akib</td>\n",
       "      <td>23.0</td>\n",
       "      <td>A+</td>\n",
       "      <td>1</td>\n",
       "    </tr>\n",
       "  </tbody>\n",
       "</table>\n",
       "</div>"
      ],
      "text/plain": [
       "     Name   Age Blood Group  Sex Code\n",
       "0  Sharif  26.0          B+         1\n",
       "1   Imran  24.0          O+         1\n",
       "2   Hanif   NaN         AB+         1\n",
       "3    Akib  23.0          A+         1"
      ]
     },
     "execution_count": 146,
     "metadata": {},
     "output_type": "execute_result"
    }
   ],
   "source": [
    "# Select first row\n",
    "print(dataframe.iloc[0])\n",
    "\n",
    "# Select three rows\n",
    "dataframe.iloc[1:4]\n",
    "\n",
    "# Select three rows\n",
    "dataframe.iloc[:4]"
   ]
  },
  {
   "cell_type": "markdown",
   "metadata": {},
   "source": [
    "# Set Index For Data Frame\n",
    "All rows in a pandas DataFrame have a unique index value. By default, this index is\n",
    "an integer indicating the row position in the DataFrame; however, it does not have to\n",
    "be. DataFrame indexes can be set to be unique alphanumeric strings or customer\n",
    "numbers. To select individual rows and slices of rows, pandas provides two methods:\n",
    "* **loc** is useful when the index of the DataFrame is a label (e.g., a string).\n",
    "* **iloc** works by looking for the position in the DataFrame. For example, iloc[0] will return the first row regardless of whether the index is an integer or a label.\n",
    "\n",
    "It is useful to be comfortable with both loc and iloc since they will come up a lot\n",
    "during data cleaning.\n",
    "\n",
    "Although DataFrames provide built in numerical index But We can set the index of a DataFrame to any value where the value is unique to each row."
   ]
  },
  {
   "cell_type": "code",
   "execution_count": 147,
   "metadata": {},
   "outputs": [
    {
     "name": "stdout",
     "output_type": "stream",
     "text": [
      "     Name   Age Blood Group  Sex Code\n",
      "0  Sharif  26.0          B+         1\n",
      "1   Imran  24.0          O+         1\n",
      "2   Hanif   NaN         AB+         1\n",
      "3    Akib  23.0          A+         1\n",
      "4   Fatin  25.0          O-         1\n",
      "5   Irfan  29.0         AB+         1\n",
      "6   Akash  36.0         AB+         1\n",
      "7  Mahrez  22.0          O+         1\n"
     ]
    },
    {
     "data": {
      "text/plain": [
       "Name           Sharif\n",
       "Age                26\n",
       "Blood Group        B+\n",
       "Sex Code            1\n",
       "Name: Sharif, dtype: object"
      ]
     },
     "execution_count": 147,
     "metadata": {},
     "output_type": "execute_result"
    }
   ],
   "source": [
    "# Set index\n",
    "df = dataframe.set_index(dataframe['Name'])\n",
    "print(dataframe)\n",
    "\n",
    "# Show row\n",
    "df.loc['Sharif']"
   ]
  },
  {
   "cell_type": "code",
   "execution_count": null,
   "metadata": {},
   "outputs": [],
   "source": []
  },
  {
   "cell_type": "markdown",
   "metadata": {},
   "source": [
    "# Selecting Rows Based on Conditionals\n",
    "Conditionally selecting and filtering data is one of the most common tasks in data wrangling. You rarely want all the raw data from the source; instead, you are interested in only some subsection of it. For example, you might only be interested in stores\n",
    "in certain states or the records of patients over a certain age."
   ]
  },
  {
   "cell_type": "code",
   "execution_count": 148,
   "metadata": {},
   "outputs": [
    {
     "name": "stdout",
     "output_type": "stream",
     "text": [
      "     Name   Age Blood Group  Sex Code\n",
      "0  Sharif  26.0          B+         1\n"
     ]
    },
    {
     "data": {
      "text/html": [
       "<div>\n",
       "<style scoped>\n",
       "    .dataframe tbody tr th:only-of-type {\n",
       "        vertical-align: middle;\n",
       "    }\n",
       "\n",
       "    .dataframe tbody tr th {\n",
       "        vertical-align: top;\n",
       "    }\n",
       "\n",
       "    .dataframe thead th {\n",
       "        text-align: right;\n",
       "    }\n",
       "</style>\n",
       "<table border=\"1\" class=\"dataframe\">\n",
       "  <thead>\n",
       "    <tr style=\"text-align: right;\">\n",
       "      <th></th>\n",
       "      <th>Name</th>\n",
       "      <th>Age</th>\n",
       "      <th>Blood Group</th>\n",
       "      <th>Sex Code</th>\n",
       "    </tr>\n",
       "  </thead>\n",
       "  <tbody>\n",
       "    <tr>\n",
       "      <th>0</th>\n",
       "      <td>Sharif</td>\n",
       "      <td>26.0</td>\n",
       "      <td>B+</td>\n",
       "      <td>1</td>\n",
       "    </tr>\n",
       "    <tr>\n",
       "      <th>1</th>\n",
       "      <td>Imran</td>\n",
       "      <td>24.0</td>\n",
       "      <td>O+</td>\n",
       "      <td>1</td>\n",
       "    </tr>\n",
       "    <tr>\n",
       "      <th>4</th>\n",
       "      <td>Fatin</td>\n",
       "      <td>25.0</td>\n",
       "      <td>O-</td>\n",
       "      <td>1</td>\n",
       "    </tr>\n",
       "    <tr>\n",
       "      <th>5</th>\n",
       "      <td>Irfan</td>\n",
       "      <td>29.0</td>\n",
       "      <td>AB+</td>\n",
       "      <td>1</td>\n",
       "    </tr>\n",
       "    <tr>\n",
       "      <th>6</th>\n",
       "      <td>Akash</td>\n",
       "      <td>36.0</td>\n",
       "      <td>AB+</td>\n",
       "      <td>1</td>\n",
       "    </tr>\n",
       "  </tbody>\n",
       "</table>\n",
       "</div>"
      ],
      "text/plain": [
       "     Name   Age Blood Group  Sex Code\n",
       "0  Sharif  26.0          B+         1\n",
       "1   Imran  24.0          O+         1\n",
       "4   Fatin  25.0          O-         1\n",
       "5   Irfan  29.0         AB+         1\n",
       "6   Akash  36.0         AB+         1"
      ]
     },
     "execution_count": 148,
     "metadata": {},
     "output_type": "execute_result"
    }
   ],
   "source": [
    "# Show top two rows where column 'Blood Group' is 'B+'\n",
    "print(dataframe[dataframe['Blood Group'] == 'B+'])\n",
    "\n",
    "# multiple condition\n",
    "dataframe[(dataframe['Sex Code'] == 1) & (dataframe['Age'] >= 24)]"
   ]
  },
  {
   "cell_type": "markdown",
   "metadata": {},
   "source": [
    "# Replacing Values|\n",
    "replace is a tool we use to replace values that is simple and yet has the powerful ability to accept regular expressions.pandas **replace** is an easy way to find and replace values."
   ]
  },
  {
   "cell_type": "code",
   "execution_count": 149,
   "metadata": {},
   "outputs": [
    {
     "name": "stdout",
     "output_type": "stream",
     "text": [
      "0    Man\n",
      "1    Man\n",
      "Name: Sex Code, dtype: object\n"
     ]
    }
   ],
   "source": [
    "# Replace values, show two rows\n",
    "print(dataframe['Sex Code'].replace(1, \"Man\").head(2))"
   ]
  },
  {
   "cell_type": "markdown",
   "metadata": {},
   "source": [
    "We can also replace multiple values at the same time:"
   ]
  },
  {
   "cell_type": "code",
   "execution_count": null,
   "metadata": {},
   "outputs": [],
   "source": [
    "# Replace \"female\" and \"male with \"Woman\" and \"Man\"\n",
    "dataframe['Sex'].replace([\"female\", \"male\"], [\"Woman\", \"Man\"]).head(5)"
   ]
  },
  {
   "cell_type": "markdown",
   "metadata": {},
   "source": [
    "We can also find and replace across the entire DataFrame object by specifying the whole data frame instead of a single column:"
   ]
  },
  {
   "cell_type": "code",
   "execution_count": 150,
   "metadata": {},
   "outputs": [
    {
     "data": {
      "text/html": [
       "<div>\n",
       "<style scoped>\n",
       "    .dataframe tbody tr th:only-of-type {\n",
       "        vertical-align: middle;\n",
       "    }\n",
       "\n",
       "    .dataframe tbody tr th {\n",
       "        vertical-align: top;\n",
       "    }\n",
       "\n",
       "    .dataframe thead th {\n",
       "        text-align: right;\n",
       "    }\n",
       "</style>\n",
       "<table border=\"1\" class=\"dataframe\">\n",
       "  <thead>\n",
       "    <tr style=\"text-align: right;\">\n",
       "      <th></th>\n",
       "      <th>Name</th>\n",
       "      <th>Age</th>\n",
       "      <th>Blood Group</th>\n",
       "      <th>Sex Code</th>\n",
       "    </tr>\n",
       "  </thead>\n",
       "  <tbody>\n",
       "    <tr>\n",
       "      <th>0</th>\n",
       "      <td>Sharif</td>\n",
       "      <td>26.0</td>\n",
       "      <td>B+</td>\n",
       "      <td>One</td>\n",
       "    </tr>\n",
       "    <tr>\n",
       "      <th>1</th>\n",
       "      <td>Imran</td>\n",
       "      <td>24.0</td>\n",
       "      <td>O+</td>\n",
       "      <td>One</td>\n",
       "    </tr>\n",
       "    <tr>\n",
       "      <th>2</th>\n",
       "      <td>Hanif</td>\n",
       "      <td>NaN</td>\n",
       "      <td>AB+</td>\n",
       "      <td>One</td>\n",
       "    </tr>\n",
       "    <tr>\n",
       "      <th>3</th>\n",
       "      <td>Akib</td>\n",
       "      <td>23.0</td>\n",
       "      <td>A+</td>\n",
       "      <td>One</td>\n",
       "    </tr>\n",
       "    <tr>\n",
       "      <th>4</th>\n",
       "      <td>Fatin</td>\n",
       "      <td>25.0</td>\n",
       "      <td>O-</td>\n",
       "      <td>One</td>\n",
       "    </tr>\n",
       "    <tr>\n",
       "      <th>5</th>\n",
       "      <td>Irfan</td>\n",
       "      <td>29.0</td>\n",
       "      <td>AB+</td>\n",
       "      <td>One</td>\n",
       "    </tr>\n",
       "    <tr>\n",
       "      <th>6</th>\n",
       "      <td>Akash</td>\n",
       "      <td>36.0</td>\n",
       "      <td>AB+</td>\n",
       "      <td>One</td>\n",
       "    </tr>\n",
       "    <tr>\n",
       "      <th>7</th>\n",
       "      <td>Mahrez</td>\n",
       "      <td>22.0</td>\n",
       "      <td>O+</td>\n",
       "      <td>One</td>\n",
       "    </tr>\n",
       "  </tbody>\n",
       "</table>\n",
       "</div>"
      ],
      "text/plain": [
       "     Name   Age Blood Group Sex Code\n",
       "0  Sharif  26.0          B+      One\n",
       "1   Imran  24.0          O+      One\n",
       "2   Hanif   NaN         AB+      One\n",
       "3    Akib  23.0          A+      One\n",
       "4   Fatin  25.0          O-      One\n",
       "5   Irfan  29.0         AB+      One\n",
       "6   Akash  36.0         AB+      One\n",
       "7  Mahrez  22.0          O+      One"
      ]
     },
     "execution_count": 150,
     "metadata": {},
     "output_type": "execute_result"
    }
   ],
   "source": [
    "# Replace values, show two rows\n",
    "dataframe.replace(1, \"One\")"
   ]
  },
  {
   "cell_type": "markdown",
   "metadata": {},
   "source": [
    "# Rename Column\n",
    "Using rename with a dictionary as an argument to the columns parameter is my preferred way to rename columns because it works with any number of columns. If we want to rename all columns at once, this helpful snippet of code creates a dictionary with the old column names as keys and empty strings as values"
   ]
  },
  {
   "cell_type": "code",
   "execution_count": 151,
   "metadata": {},
   "outputs": [
    {
     "data": {
      "text/html": [
       "<div>\n",
       "<style scoped>\n",
       "    .dataframe tbody tr th:only-of-type {\n",
       "        vertical-align: middle;\n",
       "    }\n",
       "\n",
       "    .dataframe tbody tr th {\n",
       "        vertical-align: top;\n",
       "    }\n",
       "\n",
       "    .dataframe thead th {\n",
       "        text-align: right;\n",
       "    }\n",
       "</style>\n",
       "<table border=\"1\" class=\"dataframe\">\n",
       "  <thead>\n",
       "    <tr style=\"text-align: right;\">\n",
       "      <th></th>\n",
       "      <th>Name</th>\n",
       "      <th>Age</th>\n",
       "      <th>Blood Group</th>\n",
       "      <th>Sex</th>\n",
       "    </tr>\n",
       "  </thead>\n",
       "  <tbody>\n",
       "    <tr>\n",
       "      <th>0</th>\n",
       "      <td>Sharif</td>\n",
       "      <td>26.0</td>\n",
       "      <td>B+</td>\n",
       "      <td>1</td>\n",
       "    </tr>\n",
       "    <tr>\n",
       "      <th>1</th>\n",
       "      <td>Imran</td>\n",
       "      <td>24.0</td>\n",
       "      <td>O+</td>\n",
       "      <td>1</td>\n",
       "    </tr>\n",
       "    <tr>\n",
       "      <th>2</th>\n",
       "      <td>Hanif</td>\n",
       "      <td>NaN</td>\n",
       "      <td>AB+</td>\n",
       "      <td>1</td>\n",
       "    </tr>\n",
       "    <tr>\n",
       "      <th>3</th>\n",
       "      <td>Akib</td>\n",
       "      <td>23.0</td>\n",
       "      <td>A+</td>\n",
       "      <td>1</td>\n",
       "    </tr>\n",
       "    <tr>\n",
       "      <th>4</th>\n",
       "      <td>Fatin</td>\n",
       "      <td>25.0</td>\n",
       "      <td>O-</td>\n",
       "      <td>1</td>\n",
       "    </tr>\n",
       "    <tr>\n",
       "      <th>5</th>\n",
       "      <td>Irfan</td>\n",
       "      <td>29.0</td>\n",
       "      <td>AB+</td>\n",
       "      <td>1</td>\n",
       "    </tr>\n",
       "    <tr>\n",
       "      <th>6</th>\n",
       "      <td>Akash</td>\n",
       "      <td>36.0</td>\n",
       "      <td>AB+</td>\n",
       "      <td>1</td>\n",
       "    </tr>\n",
       "    <tr>\n",
       "      <th>7</th>\n",
       "      <td>Mahrez</td>\n",
       "      <td>22.0</td>\n",
       "      <td>O+</td>\n",
       "      <td>1</td>\n",
       "    </tr>\n",
       "  </tbody>\n",
       "</table>\n",
       "</div>"
      ],
      "text/plain": [
       "     Name   Age Blood Group  Sex\n",
       "0  Sharif  26.0          B+    1\n",
       "1   Imran  24.0          O+    1\n",
       "2   Hanif   NaN         AB+    1\n",
       "3    Akib  23.0          A+    1\n",
       "4   Fatin  25.0          O-    1\n",
       "5   Irfan  29.0         AB+    1\n",
       "6   Akash  36.0         AB+    1\n",
       "7  Mahrez  22.0          O+    1"
      ]
     },
     "execution_count": 151,
     "metadata": {},
     "output_type": "execute_result"
    }
   ],
   "source": [
    "dataframe.rename(columns={'Sex Code': 'Sex'})"
   ]
  },
  {
   "cell_type": "markdown",
   "metadata": {},
   "source": [
    "# Finding the Minimum, Maximum, Sum, Average, and Count"
   ]
  },
  {
   "cell_type": "code",
   "execution_count": 152,
   "metadata": {},
   "outputs": [
    {
     "name": "stdout",
     "output_type": "stream",
     "text": [
      "Maximum: 36.0\n",
      "Minimum: 22.0\n",
      "Mean: 26.428571428571427\n",
      "Sum: 185.0\n",
      "Count: 7\n"
     ]
    }
   ],
   "source": [
    "# Calculate statistics\n",
    "print('Maximum:', dataframe['Age'].max())\n",
    "print('Minimum:', dataframe['Age'].min())\n",
    "print('Mean:', dataframe['Age'].mean())\n",
    "print('Sum:', dataframe['Age'].sum())\n",
    "print('Count:', dataframe['Age'].count())"
   ]
  },
  {
   "cell_type": "markdown",
   "metadata": {},
   "source": [
    "In addition to the statistics used in the solution, pandas offers **variance ( var ), stan‐\n",
    "dard deviation ( std ), kurtosis ( kurt ), skewness ( skew ), standard error of the mean\n",
    "( sem ), mode ( mode ), median ( median ),** and a number of others.\n",
    "Furthermore, we can also apply these methods to the whole DataFrame:"
   ]
  },
  {
   "cell_type": "code",
   "execution_count": 153,
   "metadata": {},
   "outputs": [
    {
     "data": {
      "text/plain": [
       "Name           8\n",
       "Age            7\n",
       "Blood Group    8\n",
       "Sex Code       8\n",
       "dtype: int64"
      ]
     },
     "execution_count": 153,
     "metadata": {},
     "output_type": "execute_result"
    }
   ],
   "source": [
    "# Show counts\n",
    "dataframe.count()"
   ]
  },
  {
   "cell_type": "markdown",
   "metadata": {},
   "source": [
    "# Finding Unique Values"
   ]
  },
  {
   "cell_type": "code",
   "execution_count": 158,
   "metadata": {},
   "outputs": [
    {
     "name": "stdout",
     "output_type": "stream",
     "text": [
      "['B+' 'O+' 'AB+' 'A+' 'O-']\n"
     ]
    },
    {
     "data": {
      "text/plain": [
       "AB+    3\n",
       "O+     2\n",
       "A+     1\n",
       "O-     1\n",
       "B+     1\n",
       "Name: Blood Group, dtype: int64"
      ]
     },
     "execution_count": 158,
     "metadata": {},
     "output_type": "execute_result"
    }
   ],
   "source": [
    "# Select unique values\n",
    "print(dataframe['Blood Group'].unique())\n",
    "\n",
    "#Alternatively, value_counts will display all unique values with the number of times each value appears:\n",
    "# Show counts\n",
    "dataframe['Blood Group'].value_counts()"
   ]
  },
  {
   "cell_type": "code",
   "execution_count": null,
   "metadata": {},
   "outputs": [],
   "source": []
  },
  {
   "cell_type": "code",
   "execution_count": null,
   "metadata": {},
   "outputs": [],
   "source": []
  }
 ],
 "metadata": {
  "kernelspec": {
   "display_name": "Python 3",
   "language": "python",
   "name": "python3"
  },
  "language_info": {
   "codemirror_mode": {
    "name": "ipython",
    "version": 3
   },
   "file_extension": ".py",
   "mimetype": "text/x-python",
   "name": "python",
   "nbconvert_exporter": "python",
   "pygments_lexer": "ipython3",
   "version": "3.6.9"
  }
 },
 "nbformat": 4,
 "nbformat_minor": 2
}
