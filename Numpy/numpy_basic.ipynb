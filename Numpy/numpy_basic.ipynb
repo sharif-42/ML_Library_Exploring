{
 "cells": [
  {
   "cell_type": "markdown",
   "metadata": {},
   "source": [
    "# Numpy Operations\n",
    "\n",
    "NumPy is the foundation of the Python machine learning stack. NumPy allows for efficient operations on the data structures often used in machine learning: vectors, matrices, and tensors. \n",
    "\n",
    "For More visit  **[This Link](https://www.oreilly.com/library/view/machine-learning-with/9781491989371/ch01.html)**"
   ]
  },
  {
   "cell_type": "code",
   "execution_count": 2,
   "metadata": {},
   "outputs": [],
   "source": [
    "import pandas as pd\n",
    "import numpy as np\n",
    "import matplotlib.pyplot as plt\n",
    "from scipy import sparse"
   ]
  },
  {
   "cell_type": "markdown",
   "metadata": {},
   "source": [
    "## Creating a Vector\n",
    "NumPy’s main data structure is the multidimensional array. To create a vector, we simply create a one-dimensional array. Just like vectors, these arrays can be represented horizontally (i.e., rows) or vertically (i.e., columns)."
   ]
  },
  {
   "cell_type": "code",
   "execution_count": 3,
   "metadata": {},
   "outputs": [
    {
     "name": "stdout",
     "output_type": "stream",
     "text": [
      "[1 2 3]\n",
      "[[1]\n",
      " [2]\n",
      " [3]]\n"
     ]
    }
   ],
   "source": [
    "# Create a vector as a row\n",
    "vector_row = np.array([1, 2, 3])\n",
    "print(vector_row)\n",
    "\n",
    "# Create a vector as a column\n",
    "vector_column = np.array([[1],[2],[3]])\n",
    "print(vector_column)\n"
   ]
  },
  {
   "cell_type": "markdown",
   "metadata": {},
   "source": [
    "# Some Basic Operation"
   ]
  },
  {
   "cell_type": "code",
   "execution_count": 4,
   "metadata": {},
   "outputs": [
    {
     "name": "stdout",
     "output_type": "stream",
     "text": [
      "[1 2 3]\n",
      "[1.         1.41421356 1.73205081]\n",
      "[ 2.71828183  7.3890561  20.08553692]\n",
      "[0.         0.69314718 1.09861229]\n"
     ]
    }
   ],
   "source": [
    "array = np.array([1,2,3])\n",
    "print(array)\n",
    "\n",
    "# Sqrt\n",
    "print(np.sqrt(array))\n",
    "\n",
    "# Exponential\n",
    "print(np.exp(array))\n",
    "\n",
    "# log\n",
    "print(np.log(array))"
   ]
  },
  {
   "cell_type": "markdown",
   "metadata": {},
   "source": [
    "# Creating Matrix All Zeros/Ones"
   ]
  },
  {
   "cell_type": "code",
   "execution_count": 5,
   "metadata": {},
   "outputs": [
    {
     "name": "stdout",
     "output_type": "stream",
     "text": [
      "[0. 0. 0. 0. 0. 0. 0. 0. 0. 0.]\n",
      "[1. 1. 1. 1. 1. 1. 1. 1. 1. 1.]\n"
     ]
    }
   ],
   "source": [
    "# One Dimensions\n",
    "print(np.zeros(10))\n",
    "print(np.ones(10))"
   ]
  },
  {
   "cell_type": "code",
   "execution_count": 6,
   "metadata": {},
   "outputs": [
    {
     "name": "stdout",
     "output_type": "stream",
     "text": [
      "[[0. 0. 0. 0. 0. 0. 0. 0. 0. 0.]\n",
      " [0. 0. 0. 0. 0. 0. 0. 0. 0. 0.]\n",
      " [0. 0. 0. 0. 0. 0. 0. 0. 0. 0.]\n",
      " [0. 0. 0. 0. 0. 0. 0. 0. 0. 0.]\n",
      " [0. 0. 0. 0. 0. 0. 0. 0. 0. 0.]\n",
      " [0. 0. 0. 0. 0. 0. 0. 0. 0. 0.]\n",
      " [0. 0. 0. 0. 0. 0. 0. 0. 0. 0.]\n",
      " [0. 0. 0. 0. 0. 0. 0. 0. 0. 0.]\n",
      " [0. 0. 0. 0. 0. 0. 0. 0. 0. 0.]\n",
      " [0. 0. 0. 0. 0. 0. 0. 0. 0. 0.]]\n",
      "#################################\n",
      "[[1. 1. 1. 1. 1. 1. 1. 1. 1. 1.]\n",
      " [1. 1. 1. 1. 1. 1. 1. 1. 1. 1.]\n",
      " [1. 1. 1. 1. 1. 1. 1. 1. 1. 1.]\n",
      " [1. 1. 1. 1. 1. 1. 1. 1. 1. 1.]\n",
      " [1. 1. 1. 1. 1. 1. 1. 1. 1. 1.]\n",
      " [1. 1. 1. 1. 1. 1. 1. 1. 1. 1.]\n",
      " [1. 1. 1. 1. 1. 1. 1. 1. 1. 1.]\n",
      " [1. 1. 1. 1. 1. 1. 1. 1. 1. 1.]\n",
      " [1. 1. 1. 1. 1. 1. 1. 1. 1. 1.]\n",
      " [1. 1. 1. 1. 1. 1. 1. 1. 1. 1.]]\n"
     ]
    }
   ],
   "source": [
    "# Two Dimensions\n",
    "print(np.zeros((10,10)))\n",
    "print(\"#################################\")\n",
    "print(np.ones((10,10)))"
   ]
  },
  {
   "cell_type": "markdown",
   "metadata": {},
   "source": [
    "# Generating Matrix Using Random Values"
   ]
  },
  {
   "cell_type": "code",
   "execution_count": 9,
   "metadata": {},
   "outputs": [
    {
     "data": {
      "text/plain": [
       "array([[0.5916155 , 0.95571676, 0.70530916, 0.65821412, 0.8690935 ,\n",
       "        0.35191167, 0.39173523, 0.98756039, 0.82828283, 0.88275095],\n",
       "       [0.07852894, 0.59972686, 0.98004468, 0.70730418, 0.02510837,\n",
       "        0.23489174, 0.53594036, 0.8401295 , 0.77942969, 0.11617305],\n",
       "       [0.56801146, 0.7136892 , 0.97596673, 0.27379473, 0.74925483,\n",
       "        0.7953665 , 0.5191404 , 0.29080202, 0.3704398 , 0.19542537],\n",
       "       [0.87817346, 0.43322324, 0.27251073, 0.39024101, 0.23138266,\n",
       "        0.44918918, 0.97217284, 0.86247112, 0.11348359, 0.15806844],\n",
       "       [0.0597532 , 0.13340815, 0.45037348, 0.72278489, 0.15405554,\n",
       "        0.80121431, 0.47989677, 0.09007153, 0.86003635, 0.32357882],\n",
       "       [0.21632864, 0.4375126 , 0.36945612, 0.25179009, 0.14547943,\n",
       "        0.64960902, 0.27643195, 0.62374276, 0.5566481 , 0.78444994],\n",
       "       [0.06141527, 0.40080275, 0.85529676, 0.80786271, 0.91471545,\n",
       "        0.18260224, 0.42489816, 0.35586263, 0.91696579, 0.10142722],\n",
       "       [0.07553554, 0.59326757, 0.28977683, 0.0528706 , 0.6294056 ,\n",
       "        0.82340803, 0.03984267, 0.99596127, 0.86108524, 0.56518961],\n",
       "       [0.93772246, 0.80462743, 0.2894179 , 0.3156016 , 0.27554433,\n",
       "        0.46395109, 0.54432641, 0.58459955, 0.44866768, 0.33851799],\n",
       "       [0.6365637 , 0.67319275, 0.22708996, 0.47389073, 0.4105011 ,\n",
       "        0.59081575, 0.65114069, 0.39231652, 0.86131914, 0.5228569 ]])"
      ]
     },
     "execution_count": 9,
     "metadata": {},
     "output_type": "execute_result"
    }
   ],
   "source": [
    "np.random.random((10,10)) # all number is 0 to 1"
   ]
  },
  {
   "cell_type": "code",
   "execution_count": 11,
   "metadata": {},
   "outputs": [
    {
     "data": {
      "text/plain": [
       "array([[-0.94486236,  0.59265917, -0.38521191,  0.83705557, -0.79572066,\n",
       "         0.94082635,  0.45754372,  0.09645949, -0.21139527,  1.3299987 ],\n",
       "       [ 0.3489898 , -1.09943   ,  0.82932353, -0.3803665 ,  2.17561481,\n",
       "        -0.20592407,  0.25564086, -0.14545028, -0.03189815,  1.09556617],\n",
       "       [ 1.91298074,  2.04876069,  0.75528838, -0.32544716,  1.9610424 ,\n",
       "        -0.38385554, -0.48784983,  0.70880354, -1.19573297,  0.35143598],\n",
       "       [-0.61868117, -0.93542684, -0.33359439,  0.11858185,  0.06868442,\n",
       "        -0.06700009, -0.41409563,  0.29136017,  0.7410052 ,  0.38095526],\n",
       "       [ 1.17422027, -1.10891857,  0.90209236,  0.64335334,  0.08336877,\n",
       "        -0.59795566, -1.05028122, -0.74571266,  1.90920316,  0.7449941 ],\n",
       "       [-0.60172442, -2.52059802, -0.51963278, -0.09312394, -0.16731676,\n",
       "         0.53876368,  1.048235  , -0.03428124, -0.3023789 ,  0.27896099],\n",
       "       [-2.08004404,  0.13108102, -0.08191773, -2.06474833,  0.69504781,\n",
       "         0.8807927 ,  1.34284963, -0.99129152,  2.24998959, -1.50730662],\n",
       "       [-0.79412769,  0.38901583, -0.55199399,  2.1607476 , -1.13886411,\n",
       "        -0.91717776, -0.34439901, -0.9630593 ,  1.03744119,  0.40626097],\n",
       "       [ 1.05301844, -1.76053057, -0.34321039,  1.25802611,  1.04624899,\n",
       "        -0.33461234, -0.06691228,  0.50634068,  0.27619306,  1.09421038],\n",
       "       [ 0.27041273, -3.0281543 ,  1.40429481,  0.3654208 , -0.42014629,\n",
       "        -0.47077282, -0.18629507, -0.14010827, -0.28434715,  1.05197686]])"
      ]
     },
     "execution_count": 11,
     "metadata": {},
     "output_type": "execute_result"
    }
   ],
   "source": [
    "rand_mat = np.random.randn(10,10)\n",
    "rand_mat"
   ]
  },
  {
   "cell_type": "markdown",
   "metadata": {},
   "source": [
    "# Statistics of the matrix"
   ]
  },
  {
   "cell_type": "code",
   "execution_count": 12,
   "metadata": {},
   "outputs": [
    {
     "data": {
      "text/plain": [
       "0.08067251108594782"
      ]
     },
     "execution_count": 12,
     "metadata": {},
     "output_type": "execute_result"
    }
   ],
   "source": [
    "rand_mat.mean()  # mean"
   ]
  },
  {
   "cell_type": "code",
   "execution_count": 13,
   "metadata": {},
   "outputs": [
    {
     "data": {
      "text/plain": [
       "1.0083604529754069"
      ]
     },
     "execution_count": 13,
     "metadata": {},
     "output_type": "execute_result"
    }
   ],
   "source": [
    "rand_mat.var() # variance"
   ]
  },
  {
   "cell_type": "code",
   "execution_count": 15,
   "metadata": {},
   "outputs": [
    {
     "data": {
      "text/plain": [
       "1.004171525674477"
      ]
     },
     "execution_count": 15,
     "metadata": {},
     "output_type": "execute_result"
    }
   ],
   "source": [
    "rand_mat.std()  # standard daviation"
   ]
  },
  {
   "cell_type": "code",
   "execution_count": null,
   "metadata": {},
   "outputs": [],
   "source": []
  },
  {
   "cell_type": "code",
   "execution_count": null,
   "metadata": {},
   "outputs": [],
   "source": []
  },
  {
   "cell_type": "markdown",
   "metadata": {},
   "source": [
    "## Selecting Elements\n",
    "Like most things in Python, NumPy arrays are zero-indexed, meaning that the index of the first element is 0, not 1."
   ]
  },
  {
   "cell_type": "code",
   "execution_count": 51,
   "metadata": {},
   "outputs": [
    {
     "name": "stdout",
     "output_type": "stream",
     "text": [
      "Matrix:\n",
      "[[1 2 3]\n",
      " [4 5 6]\n",
      " [7 8 9]]\n",
      "second row, second column: 5\n",
      "first two rows and all columns\n",
      "[[1 2 3]\n",
      " [4 5 6]]\n",
      "all rows and the second column\n",
      "[[2]\n",
      " [5]\n",
      " [8]]\n",
      "[[1 2 3]]\n"
     ]
    }
   ],
   "source": [
    "# Create row vector\n",
    "vector = np.array([1, 2, 3, 4, 5, 6])\n",
    "\n",
    "# Create matrix\n",
    "matrix = np.array([[1, 2, 3],\n",
    "                   [4, 5, 6],\n",
    "                   [7, 8, 9]])\n",
    "\n",
    "print(\"Matrix:\")\n",
    "print(matrix)\n",
    "\n",
    "# Select second row, second column\n",
    "print(\"second row, second column:\",matrix[1,1])\n",
    "\n",
    "# Select the first two rows and all columns of a matrix\n",
    "print(\"first two rows and all columns\")\n",
    "print(matrix[:2,:])\n",
    "\n",
    "# Select all rows and the second column\n",
    "print(\"all rows and the second column\")\n",
    "print(matrix[:,1:2])\n",
    "\n",
    "# select 1st row\n",
    "print(matrix[:1,:])"
   ]
  },
  {
   "cell_type": "markdown",
   "metadata": {},
   "source": [
    "# Dot Product"
   ]
  },
  {
   "cell_type": "code",
   "execution_count": 52,
   "metadata": {},
   "outputs": [
    {
     "name": "stdout",
     "output_type": "stream",
     "text": [
      "manual:  4\n",
      "auto:  4\n",
      "auto:  4\n",
      "auto:  4\n",
      "auto:  4\n",
      "auto:  4\n",
      "[2 2]\n",
      "2.23606797749979 2.23606797749979\n",
      "0.6435011087932847\n"
     ]
    }
   ],
   "source": [
    "A = np.array([1,2])\n",
    "\n",
    "B = np.array([2,1])\n",
    "\n",
    "# Find Magnitude Manual Operation\n",
    "dot = 0\n",
    "for ai, bi in zip(A,B):\n",
    "    dot += ai*bi\n",
    "print(\"manual: \",dot)\n",
    "\n",
    "# Automatic Operation\n",
    "print(\"auto: \",np.sum(A*B))\n",
    "print(\"auto: \",(A*B).sum()) #Similar\n",
    "print(\"auto: \",np.dot(A,B)) # similar\n",
    "print(\"auto: \", A.dot(B))\n",
    "print(\"auto: \", B.dot(A))\n",
    "\n",
    "# Dot Product\n",
    "print(A*B)\n",
    "A_magnitude = np.linalg.norm(A)\n",
    "B_magnitude = np.linalg.norm(B)\n",
    "print(A_magnitude, B_magnitude)\n",
    "\n",
    "# Angel\n",
    "cosangle = A.dot(B)/(A_magnitude*B_magnitude)\n",
    "angel = np.arccos(cosangle)\n",
    "print(angel)\n"
   ]
  },
  {
   "cell_type": "markdown",
   "metadata": {},
   "source": []
  },
  {
   "cell_type": "code",
   "execution_count": null,
   "metadata": {},
   "outputs": [],
   "source": []
  },
  {
   "cell_type": "code",
   "execution_count": null,
   "metadata": {},
   "outputs": [],
   "source": []
  }
 ],
 "metadata": {
  "kernelspec": {
   "display_name": "Python 3",
   "language": "python",
   "name": "python3"
  },
  "language_info": {
   "codemirror_mode": {
    "name": "ipython",
    "version": 3
   },
   "file_extension": ".py",
   "mimetype": "text/x-python",
   "name": "python",
   "nbconvert_exporter": "python",
   "pygments_lexer": "ipython3",
   "version": "3.6.9"
  }
 },
 "nbformat": 4,
 "nbformat_minor": 2
}
