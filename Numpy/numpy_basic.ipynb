{
 "cells": [
  {
   "cell_type": "markdown",
   "metadata": {},
   "source": [
    "# Numpy Operations\n",
    "\n",
    "NumPy is the foundation of the Python machine learning stack. NumPy allows for efficient operations on the data structures often used in machine learning: vectors, matrices, and tensors. \n",
    "\n",
    "For More visit  **[This Link](https://www.oreilly.com/library/view/machine-learning-with/9781491989371/ch01.html)**"
   ]
  },
  {
   "cell_type": "code",
   "execution_count": 48,
   "metadata": {},
   "outputs": [],
   "source": [
    "import pandas as pd\n",
    "import numpy as np\n",
    "import matplotlib.pyplot as plt\n",
    "from scipy import sparse"
   ]
  },
  {
   "cell_type": "markdown",
   "metadata": {},
   "source": [
    "## Creating a Vector\n",
    "NumPy’s main data structure is the multidimensional array. To create a vector, we simply create a one-dimensional array. Just like vectors, these arrays can be represented horizontally (i.e., rows) or vertically (i.e., columns)."
   ]
  },
  {
   "cell_type": "code",
   "execution_count": 49,
   "metadata": {},
   "outputs": [
    {
     "name": "stdout",
     "output_type": "stream",
     "text": [
      "[1 2 3]\n",
      "[[1]\n",
      " [2]\n",
      " [3]]\n"
     ]
    }
   ],
   "source": [
    "# Create a vector as a row\n",
    "vector_row = np.array([1, 2, 3])\n",
    "print(vector_row)\n",
    "\n",
    "# Create a vector as a column\n",
    "vector_column = np.array([[1],[2],[3]])\n",
    "print(vector_column)\n"
   ]
  },
  {
   "cell_type": "markdown",
   "metadata": {},
   "source": [
    "# Some Basic Operation"
   ]
  },
  {
   "cell_type": "code",
   "execution_count": 50,
   "metadata": {},
   "outputs": [
    {
     "name": "stdout",
     "output_type": "stream",
     "text": [
      "[1 2 3]\n",
      "[1.         1.41421356 1.73205081]\n",
      "[ 2.71828183  7.3890561  20.08553692]\n",
      "[0.         0.69314718 1.09861229]\n"
     ]
    }
   ],
   "source": [
    "array = np.array([1,2,3])\n",
    "print(array)\n",
    "\n",
    "# Sqrt\n",
    "print(np.sqrt(array))\n",
    "\n",
    "# Exponential\n",
    "print(np.exp(array))\n",
    "\n",
    "# log\n",
    "print(np.log(array))"
   ]
  },
  {
   "cell_type": "markdown",
   "metadata": {},
   "source": [
    "# Creating Matrix All Zeros/Ones"
   ]
  },
  {
   "cell_type": "code",
   "execution_count": 56,
   "metadata": {},
   "outputs": [
    {
     "name": "stdout",
     "output_type": "stream",
     "text": [
      "[0. 0. 0. 0. 0. 0. 0. 0. 0. 0.]\n",
      "[1. 1. 1. 1. 1. 1. 1. 1. 1. 1.]\n"
     ]
    }
   ],
   "source": [
    "# One Dimensions\n",
    "print(np.zeros(10))\n",
    "print(np.ones(10))"
   ]
  },
  {
   "cell_type": "code",
   "execution_count": 61,
   "metadata": {},
   "outputs": [
    {
     "name": "stdout",
     "output_type": "stream",
     "text": [
      "[[0. 0. 0. 0. 0. 0. 0. 0. 0. 0.]\n",
      " [0. 0. 0. 0. 0. 0. 0. 0. 0. 0.]\n",
      " [0. 0. 0. 0. 0. 0. 0. 0. 0. 0.]\n",
      " [0. 0. 0. 0. 0. 0. 0. 0. 0. 0.]\n",
      " [0. 0. 0. 0. 0. 0. 0. 0. 0. 0.]\n",
      " [0. 0. 0. 0. 0. 0. 0. 0. 0. 0.]\n",
      " [0. 0. 0. 0. 0. 0. 0. 0. 0. 0.]\n",
      " [0. 0. 0. 0. 0. 0. 0. 0. 0. 0.]\n",
      " [0. 0. 0. 0. 0. 0. 0. 0. 0. 0.]\n",
      " [0. 0. 0. 0. 0. 0. 0. 0. 0. 0.]]\n",
      "#################################\n",
      "[[1. 1. 1. 1. 1. 1. 1. 1. 1. 1.]\n",
      " [1. 1. 1. 1. 1. 1. 1. 1. 1. 1.]\n",
      " [1. 1. 1. 1. 1. 1. 1. 1. 1. 1.]\n",
      " [1. 1. 1. 1. 1. 1. 1. 1. 1. 1.]\n",
      " [1. 1. 1. 1. 1. 1. 1. 1. 1. 1.]\n",
      " [1. 1. 1. 1. 1. 1. 1. 1. 1. 1.]\n",
      " [1. 1. 1. 1. 1. 1. 1. 1. 1. 1.]\n",
      " [1. 1. 1. 1. 1. 1. 1. 1. 1. 1.]\n",
      " [1. 1. 1. 1. 1. 1. 1. 1. 1. 1.]\n",
      " [1. 1. 1. 1. 1. 1. 1. 1. 1. 1.]]\n"
     ]
    }
   ],
   "source": [
    "# Two Dimensions\n",
    "print(np.zeros((10,10)))\n",
    "print(\"#################################\")\n",
    "print(np.ones((10,10)))"
   ]
  },
  {
   "cell_type": "code",
   "execution_count": null,
   "metadata": {},
   "outputs": [],
   "source": []
  },
  {
   "cell_type": "markdown",
   "metadata": {},
   "source": [
    "## Selecting Elements\n",
    "Like most things in Python, NumPy arrays are zero-indexed, meaning that the index of the first element is 0, not 1."
   ]
  },
  {
   "cell_type": "code",
   "execution_count": 51,
   "metadata": {},
   "outputs": [
    {
     "name": "stdout",
     "output_type": "stream",
     "text": [
      "Matrix:\n",
      "[[1 2 3]\n",
      " [4 5 6]\n",
      " [7 8 9]]\n",
      "second row, second column: 5\n",
      "first two rows and all columns\n",
      "[[1 2 3]\n",
      " [4 5 6]]\n",
      "all rows and the second column\n",
      "[[2]\n",
      " [5]\n",
      " [8]]\n",
      "[[1 2 3]]\n"
     ]
    }
   ],
   "source": [
    "# Create row vector\n",
    "vector = np.array([1, 2, 3, 4, 5, 6])\n",
    "\n",
    "# Create matrix\n",
    "matrix = np.array([[1, 2, 3],\n",
    "                   [4, 5, 6],\n",
    "                   [7, 8, 9]])\n",
    "\n",
    "print(\"Matrix:\")\n",
    "print(matrix)\n",
    "\n",
    "# Select second row, second column\n",
    "print(\"second row, second column:\",matrix[1,1])\n",
    "\n",
    "# Select the first two rows and all columns of a matrix\n",
    "print(\"first two rows and all columns\")\n",
    "print(matrix[:2,:])\n",
    "\n",
    "# Select all rows and the second column\n",
    "print(\"all rows and the second column\")\n",
    "print(matrix[:,1:2])\n",
    "\n",
    "# select 1st row\n",
    "print(matrix[:1,:])"
   ]
  },
  {
   "cell_type": "markdown",
   "metadata": {},
   "source": [
    "# Dot Product"
   ]
  },
  {
   "cell_type": "code",
   "execution_count": 52,
   "metadata": {},
   "outputs": [
    {
     "name": "stdout",
     "output_type": "stream",
     "text": [
      "manual:  4\n",
      "auto:  4\n",
      "auto:  4\n",
      "auto:  4\n",
      "auto:  4\n",
      "auto:  4\n",
      "[2 2]\n",
      "2.23606797749979 2.23606797749979\n",
      "0.6435011087932847\n"
     ]
    }
   ],
   "source": [
    "A = np.array([1,2])\n",
    "\n",
    "B = np.array([2,1])\n",
    "\n",
    "# Find Magnitude Manual Operation\n",
    "dot = 0\n",
    "for ai, bi in zip(A,B):\n",
    "    dot += ai*bi\n",
    "print(\"manual: \",dot)\n",
    "\n",
    "# Automatic Operation\n",
    "print(\"auto: \",np.sum(A*B))\n",
    "print(\"auto: \",(A*B).sum()) #Similar\n",
    "print(\"auto: \",np.dot(A,B)) # similar\n",
    "print(\"auto: \", A.dot(B))\n",
    "print(\"auto: \", B.dot(A))\n",
    "\n",
    "# Dot Product\n",
    "print(A*B)\n",
    "A_magnitude = np.linalg.norm(A)\n",
    "B_magnitude = np.linalg.norm(B)\n",
    "print(A_magnitude, B_magnitude)\n",
    "\n",
    "# Angel\n",
    "cosangle = A.dot(B)/(A_magnitude*B_magnitude)\n",
    "angel = np.arccos(cosangle)\n",
    "print(angel)\n"
   ]
  },
  {
   "cell_type": "markdown",
   "metadata": {},
   "source": []
  },
  {
   "cell_type": "code",
   "execution_count": null,
   "metadata": {},
   "outputs": [],
   "source": []
  },
  {
   "cell_type": "code",
   "execution_count": null,
   "metadata": {},
   "outputs": [],
   "source": []
  }
 ],
 "metadata": {
  "kernelspec": {
   "display_name": "Python 3",
   "language": "python",
   "name": "python3"
  },
  "language_info": {
   "codemirror_mode": {
    "name": "ipython",
    "version": 3
   },
   "file_extension": ".py",
   "mimetype": "text/x-python",
   "name": "python",
   "nbconvert_exporter": "python",
   "pygments_lexer": "ipython3",
   "version": "3.6.9"
  }
 },
 "nbformat": 4,
 "nbformat_minor": 2
}
